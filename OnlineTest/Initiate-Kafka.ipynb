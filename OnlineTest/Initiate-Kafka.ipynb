{
 "cells": [
  {
   "cell_type": "markdown",
   "metadata": {},
   "source": [
    "## Start Zookeeper"
   ]
  },
  {
   "cell_type": "code",
   "execution_count": 1,
   "metadata": {
    "collapsed": false
   },
   "outputs": [
    {
     "name": "stdout",
     "output_type": "stream",
     "text": [
      "ZooKeeper JMX enabled by default\n",
      "Using config: /home/user/zookeeper-3.4.9/bin/../conf/zoo.cfg\n",
      "Starting zookeeper ... STARTED\n"
     ]
    }
   ],
   "source": [
    "import os\n",
    "path = '/home/user/zookeeper-3.4.9/bin'\n",
    "os.chdir(path)\n",
    "!./zkServer.sh start"
   ]
  },
  {
   "cell_type": "markdown",
   "metadata": {},
   "source": [
    "## Start Kafka"
   ]
  },
  {
   "cell_type": "code",
   "execution_count": 2,
   "metadata": {
    "collapsed": false
   },
   "outputs": [
    {
     "name": "stdout",
     "output_type": "stream",
     "text": [
      "[2018-02-14 20:53:23,860] INFO KafkaConfig values: \n",
      "\tadvertised.host.name = null\n",
      "\tmetric.reporters = []\n",
      "\tquota.producer.default = 9223372036854775807\n",
      "\toffsets.topic.num.partitions = 50\n",
      "\tlog.flush.interval.messages = 9223372036854775807\n",
      "\tauto.create.topics.enable = true\n",
      "\tcontroller.socket.timeout.ms = 30000\n",
      "\tlog.flush.interval.ms = null\n",
      "\tprincipal.builder.class = class org.apache.kafka.common.security.auth.DefaultPrincipalBuilder\n",
      "\treplica.socket.receive.buffer.bytes = 65536\n",
      "\tmin.insync.replicas = 1\n",
      "\treplica.fetch.wait.max.ms = 500\n",
      "\tnum.recovery.threads.per.data.dir = 1\n",
      "\tssl.keystore.type = JKS\n",
      "\tdefault.replication.factor = 1\n",
      "\tssl.truststore.password = null\n",
      "\tlog.preallocate = false\n",
      "\tsasl.kerberos.principal.to.local.rules = [DEFAULT]\n",
      "\tfetch.purgatory.purge.interval.requests = 1000\n",
      "\tssl.endpoint.identification.algorithm = null\n",
      "\treplica.socket.timeout.ms = 30000\n",
      "\tmessage.max.bytes = 1000012\n",
      "\tnum.io.threads = 8\n",
      "\toffsets.commit.required.acks = -1\n",
      "\tlog.flush.offset.checkpoint.interval.ms = 60000\n",
      "\tdelete.topic.enable = false\n",
      "\tquota.window.size.seconds = 1\n",
      "\tssl.truststore.type = JKS\n",
      "\toffsets.commit.timeout.ms = 5000\n",
      "\tquota.window.num = 11\n",
      "\tzookeeper.connect = localhost:2181\n",
      "\tauthorizer.class.name = \n",
      "\tnum.replica.fetchers = 1\n",
      "\tlog.retention.ms = null\n",
      "\tlog.roll.jitter.hours = 0\n",
      "\tlog.cleaner.enable = false\n",
      "\toffsets.load.buffer.size = 5242880\n",
      "\tlog.cleaner.delete.retention.ms = 86400000\n",
      "\tssl.client.auth = none\n",
      "\tcontrolled.shutdown.max.retries = 3\n",
      "\tqueued.max.requests = 500\n",
      "\toffsets.topic.replication.factor = 3\n",
      "\tlog.cleaner.threads = 1\n",
      "\tsasl.kerberos.service.name = null\n",
      "\tsasl.kerberos.ticket.renew.jitter = 0.05\n",
      "\tsocket.request.max.bytes = 104857600\n",
      "\tssl.trustmanager.algorithm = PKIX\n",
      "\tzookeeper.session.timeout.ms = 6000\n",
      "\tlog.retention.bytes = -1\n",
      "\tsasl.kerberos.min.time.before.relogin = 60000\n",
      "\tzookeeper.set.acl = false\n",
      "\tconnections.max.idle.ms = 600000\n",
      "\toffsets.retention.minutes = 1440\n",
      "\treplica.fetch.backoff.ms = 1000\n",
      "\tinter.broker.protocol.version = 0.9.0.X\n",
      "\tlog.retention.hours = 168\n",
      "\tnum.partitions = 1\n",
      "\tlisteners = PLAINTEXT://:9092\n",
      "\tssl.provider = null\n",
      "\tssl.enabled.protocols = [TLSv1.2, TLSv1.1, TLSv1]\n",
      "\tlog.roll.ms = null\n",
      "\tlog.flush.scheduler.interval.ms = 9223372036854775807\n",
      "\tssl.cipher.suites = null\n",
      "\tlog.index.size.max.bytes = 10485760\n",
      "\tssl.keymanager.algorithm = SunX509\n",
      "\tsecurity.inter.broker.protocol = PLAINTEXT\n",
      "\treplica.fetch.max.bytes = 1048576\n",
      "\tadvertised.port = null\n",
      "\tlog.cleaner.dedupe.buffer.size = 524288000\n",
      "\treplica.high.watermark.checkpoint.interval.ms = 5000\n",
      "\tlog.cleaner.io.buffer.size = 524288\n",
      "\tsasl.kerberos.ticket.renew.window.factor = 0.8\n",
      "\tzookeeper.connection.timeout.ms = 6000\n",
      "\tcontrolled.shutdown.retry.backoff.ms = 5000\n",
      "\tlog.roll.hours = 168\n",
      "\tlog.cleanup.policy = delete\n",
      "\thost.name = \n",
      "\tlog.roll.jitter.ms = null\n",
      "\tmax.connections.per.ip = 2147483647\n",
      "\toffsets.topic.segment.bytes = 104857600\n",
      "\tbackground.threads = 10\n",
      "\tquota.consumer.default = 9223372036854775807\n",
      "\trequest.timeout.ms = 30000\n",
      "\tlog.index.interval.bytes = 4096\n",
      "\tlog.dir = /tmp/kafka-logs\n",
      "\tlog.segment.bytes = 1073741824\n",
      "\tlog.cleaner.backoff.ms = 15000\n",
      "\toffset.metadata.max.bytes = 4096\n",
      "\tssl.truststore.location = null\n",
      "\tgroup.max.session.timeout.ms = 30000\n",
      "\tssl.keystore.password = null\n",
      "\tzookeeper.sync.time.ms = 2000\n",
      "\tport = 9092\n",
      "\tlog.retention.minutes = null\n",
      "\tlog.segment.delete.delay.ms = 60000\n",
      "\tlog.dirs = /tmp/kafka-logs\n",
      "\tcontrolled.shutdown.enable = true\n",
      "\tcompression.type = producer\n",
      "\tmax.connections.per.ip.overrides = \n",
      "\tsasl.kerberos.kinit.cmd = /usr/bin/kinit\n",
      "\tlog.cleaner.io.max.bytes.per.second = 1.7976931348623157E308\n",
      "\tauto.leader.rebalance.enable = true\n",
      "\tleader.imbalance.check.interval.seconds = 300\n",
      "\tlog.cleaner.min.cleanable.ratio = 0.5\n",
      "\treplica.lag.time.max.ms = 10000\n",
      "\tnum.network.threads = 3\n",
      "\tssl.key.password = null\n",
      "\treserved.broker.max.id = 1000\n",
      "\tmetrics.num.samples = 2\n",
      "\tsocket.send.buffer.bytes = 102400\n",
      "\tssl.protocol = TLS\n",
      "\tsocket.receive.buffer.bytes = 102400\n",
      "\tssl.keystore.location = null\n",
      "\treplica.fetch.min.bytes = 1\n",
      "\tunclean.leader.election.enable = true\n",
      "\tgroup.min.session.timeout.ms = 6000\n",
      "\tlog.cleaner.io.buffer.load.factor = 0.9\n",
      "\toffsets.retention.check.interval.ms = 600000\n",
      "\tproducer.purgatory.purge.interval.requests = 1000\n",
      "\tmetrics.sample.window.ms = 30000\n",
      "\tbroker.id = 0\n",
      "\toffsets.topic.compression.codec = 0\n",
      "\tlog.retention.check.interval.ms = 300000\n",
      "\tadvertised.listeners = null\n",
      "\tleader.imbalance.per.broker.percentage = 10\n",
      " (kafka.server.KafkaConfig)\n",
      "[2018-02-14 20:53:24,088] INFO starting (kafka.server.KafkaServer)\n",
      "[2018-02-14 20:53:24,106] INFO Connecting to zookeeper on localhost:2181 (kafka.server.KafkaServer)\n",
      "[2018-02-14 20:53:24,163] INFO Starting ZkClient event thread. (org.I0Itec.zkclient.ZkEventThread)\n",
      "[2018-02-14 20:53:24,181] INFO Client environment:zookeeper.version=3.4.6-1569965, built on 02/20/2014 09:09 GMT (org.apache.zookeeper.ZooKeeper)\n",
      "[2018-02-14 20:53:24,182] INFO Client environment:host.name=snf-779692 (org.apache.zookeeper.ZooKeeper)\n",
      "[2018-02-14 20:53:24,183] INFO Client environment:java.version=1.8.0_161 (org.apache.zookeeper.ZooKeeper)\n",
      "[2018-02-14 20:53:24,183] INFO Client environment:java.vendor=Oracle Corporation (org.apache.zookeeper.ZooKeeper)\n",
      "[2018-02-14 20:53:24,222] INFO Client environment:java.home=/usr/lib/jvm/java-8-oracle/jre (org.apache.zookeeper.ZooKeeper)\n",
      "[2018-02-14 20:53:24,223] INFO Client environment:java.class.path=:/home/user/kafka_2.11-0.9.0.0/bin/../libs/kafka-clients-0.9.0.0.jar:/home/user/kafka_2.11-0.9.0.0/bin/../libs/kafka_2.11-0.9.0.0-javadoc.jar:/home/user/kafka_2.11-0.9.0.0/bin/../libs/jetty-util-9.2.12.v20150709.jar:/home/user/kafka_2.11-0.9.0.0/bin/../libs/connect-file-0.9.0.0.jar:/home/user/kafka_2.11-0.9.0.0/bin/../libs/javax.annotation-api-1.2.jar:/home/user/kafka_2.11-0.9.0.0/bin/../libs/kafka_2.11-0.9.0.0-sources.jar:/home/user/kafka_2.11-0.9.0.0/bin/../libs/jersey-client-2.22.1.jar:/home/user/kafka_2.11-0.9.0.0/bin/../libs/scala-library-2.11.7.jar:/home/user/kafka_2.11-0.9.0.0/bin/../libs/jackson-databind-2.5.4.jar:/home/user/kafka_2.11-0.9.0.0/bin/../libs/lz4-1.2.0.jar:/home/user/kafka_2.11-0.9.0.0/bin/../libs/jackson-core-2.5.4.jar:/home/user/kafka_2.11-0.9.0.0/bin/../libs/jetty-io-9.2.12.v20150709.jar:/home/user/kafka_2.11-0.9.0.0/bin/../libs/kafka-log4j-appender-0.9.0.0.jar:/home/user/kafka_2.11-0.9.0.0/bin/../libs/validation-api-1.1.0.Final.jar:/home/user/kafka_2.11-0.9.0.0/bin/../libs/scala-parser-combinators_2.11-1.0.4.jar:/home/user/kafka_2.11-0.9.0.0/bin/../libs/javax.servlet-api-3.1.0.jar:/home/user/kafka_2.11-0.9.0.0/bin/../libs/zkclient-0.7.jar:/home/user/kafka_2.11-0.9.0.0/bin/../libs/connect-json-0.9.0.0.jar:/home/user/kafka_2.11-0.9.0.0/bin/../libs/slf4j-api-1.7.6.jar:/home/user/kafka_2.11-0.9.0.0/bin/../libs/jetty-server-9.2.12.v20150709.jar:/home/user/kafka_2.11-0.9.0.0/bin/../libs/jersey-server-2.22.1.jar:/home/user/kafka_2.11-0.9.0.0/bin/../libs/jackson-jaxrs-base-2.5.4.jar:/home/user/kafka_2.11-0.9.0.0/bin/../libs/jersey-common-2.22.1.jar:/home/user/kafka_2.11-0.9.0.0/bin/../libs/jopt-simple-3.2.jar:/home/user/kafka_2.11-0.9.0.0/bin/../libs/kafka_2.11-0.9.0.0-test.jar:/home/user/kafka_2.11-0.9.0.0/bin/../libs/jersey-guava-2.22.1.jar:/home/user/kafka_2.11-0.9.0.0/bin/../libs/javax.ws.rs-api-2.0.1.jar:/home/user/kafka_2.11-0.9.0.0/bin/../libs/snappy-java-1.1.1.7.jar:/home/user/kafka_2.11-0.9.0.0/bin/../libs/metrics-core-2.2.0.jar:/home/user/kafka_2.11-0.9.0.0/bin/../libs/kafka_2.11-0.9.0.0-scaladoc.jar:/home/user/kafka_2.11-0.9.0.0/bin/../libs/scala-xml_2.11-1.0.4.jar:/home/user/kafka_2.11-0.9.0.0/bin/../libs/jackson-module-jaxb-annotations-2.5.4.jar:/home/user/kafka_2.11-0.9.0.0/bin/../libs/kafka-tools-0.9.0.0.jar:/home/user/kafka_2.11-0.9.0.0/bin/../libs/slf4j-log4j12-1.7.6.jar:/home/user/kafka_2.11-0.9.0.0/bin/../libs/kafka_2.11-0.9.0.0.jar:/home/user/kafka_2.11-0.9.0.0/bin/../libs/javax.inject-1.jar:/home/user/kafka_2.11-0.9.0.0/bin/../libs/jetty-http-9.2.12.v20150709.jar:/home/user/kafka_2.11-0.9.0.0/bin/../libs/javax.inject-2.4.0-b31.jar:/home/user/kafka_2.11-0.9.0.0/bin/../libs/hk2-utils-2.4.0-b31.jar:/home/user/kafka_2.11-0.9.0.0/bin/../libs/zookeeper-3.4.6.jar:/home/user/kafka_2.11-0.9.0.0/bin/../libs/connect-api-0.9.0.0.jar:/home/user/kafka_2.11-0.9.0.0/bin/../libs/jersey-media-jaxb-2.22.1.jar:/home/user/kafka_2.11-0.9.0.0/bin/../libs/connect-runtime-0.9.0.0.jar:/home/user/kafka_2.11-0.9.0.0/bin/../libs/hk2-api-2.4.0-b31.jar:/home/user/kafka_2.11-0.9.0.0/bin/../libs/log4j-1.2.17.jar:/home/user/kafka_2.11-0.9.0.0/bin/../libs/jackson-jaxrs-json-provider-2.5.4.jar:/home/user/kafka_2.11-0.9.0.0/bin/../libs/hk2-locator-2.4.0-b31.jar:/home/user/kafka_2.11-0.9.0.0/bin/../libs/jackson-annotations-2.5.0.jar:/home/user/kafka_2.11-0.9.0.0/bin/../libs/jetty-security-9.2.12.v20150709.jar:/home/user/kafka_2.11-0.9.0.0/bin/../libs/jersey-container-servlet-core-2.22.1.jar:/home/user/kafka_2.11-0.9.0.0/bin/../libs/javassist-3.18.1-GA.jar:/home/user/kafka_2.11-0.9.0.0/bin/../libs/jersey-container-servlet-2.22.1.jar:/home/user/kafka_2.11-0.9.0.0/bin/../libs/argparse4j-0.5.0.jar:/home/user/kafka_2.11-0.9.0.0/bin/../libs/osgi-resource-locator-1.0.1.jar:/home/user/kafka_2.11-0.9.0.0/bin/../libs/jetty-servlet-9.2.12.v20150709.jar:/home/user/kafka_2.11-0.9.0.0/bin/../libs/aopalliance-repackaged-2.4.0-b31.jar (org.apache.zookeeper.ZooKeeper)\n",
      "[2018-02-14 20:53:24,225] INFO Client environment:java.library.path=/usr/java/packages/lib/amd64:/usr/lib64:/lib64:/lib:/usr/lib (org.apache.zookeeper.ZooKeeper)\n",
      "[2018-02-14 20:53:24,226] INFO Client environment:java.io.tmpdir=/tmp (org.apache.zookeeper.ZooKeeper)\n",
      "[2018-02-14 20:53:24,227] INFO Client environment:java.compiler=<NA> (org.apache.zookeeper.ZooKeeper)\n",
      "[2018-02-14 20:53:24,228] INFO Client environment:os.name=Linux (org.apache.zookeeper.ZooKeeper)\n",
      "[2018-02-14 20:53:24,229] INFO Client environment:os.arch=amd64 (org.apache.zookeeper.ZooKeeper)\n",
      "[2018-02-14 20:53:24,231] INFO Client environment:os.version=3.13.0-141-generic (org.apache.zookeeper.ZooKeeper)\n",
      "[2018-02-14 20:53:24,232] INFO Client environment:user.name=user (org.apache.zookeeper.ZooKeeper)\n",
      "[2018-02-14 20:53:24,233] INFO Client environment:user.home=/home/user (org.apache.zookeeper.ZooKeeper)\n",
      "[2018-02-14 20:53:24,233] INFO Client environment:user.dir=/home/user/kafka_2.11-0.9.0.0/bin (org.apache.zookeeper.ZooKeeper)\n",
      "[2018-02-14 20:53:24,239] INFO Initiating client connection, connectString=localhost:2181 sessionTimeout=6000 watcher=org.I0Itec.zkclient.ZkClient@670002 (org.apache.zookeeper.ZooKeeper)\n",
      "[2018-02-14 20:53:24,330] INFO Waiting for keeper state SyncConnected (org.I0Itec.zkclient.ZkClient)\n",
      "[2018-02-14 20:53:24,348] INFO Opening socket connection to server localhost/127.0.0.1:2181. Will not attempt to authenticate using SASL (unknown error) (org.apache.zookeeper.ClientCnxn)\n",
      "[2018-02-14 20:53:24,380] INFO Socket connection established to localhost/127.0.0.1:2181, initiating session (org.apache.zookeeper.ClientCnxn)\n",
      "[2018-02-14 20:53:24,459] INFO Session establishment complete on server localhost/127.0.0.1:2181, sessionid = 0x16195a9eeeb0000, negotiated timeout = 6000 (org.apache.zookeeper.ClientCnxn)\n",
      "[2018-02-14 20:53:24,470] INFO zookeeper state changed (SyncConnected) (org.I0Itec.zkclient.ZkClient)\n",
      "[2018-02-14 20:53:25,049] INFO Loading logs. (kafka.log.LogManager)\n",
      "[2018-02-14 20:53:25,121] INFO Completed load of log twitter-stream-0 with log end offset 148 (kafka.log.Log)\n",
      "[2018-02-14 20:53:25,132] INFO Logs loading complete. (kafka.log.LogManager)\n",
      "[2018-02-14 20:53:25,134] INFO Starting log cleanup with a period of 300000 ms. (kafka.log.LogManager)\n",
      "[2018-02-14 20:53:25,138] INFO Starting log flusher with a default period of 9223372036854775807 ms. (kafka.log.LogManager)\n",
      "[2018-02-14 20:53:25,303] INFO Awaiting socket connections on 0.0.0.0:9092. (kafka.network.Acceptor)\n",
      "[2018-02-14 20:53:25,317] INFO [Socket Server on Broker 0], Started 1 acceptor threads (kafka.network.SocketServer)\n",
      "[2018-02-14 20:53:25,415] INFO [ExpirationReaper-0], Starting  (kafka.server.DelayedOperationPurgatory$ExpiredOperationReaper)\n",
      "[2018-02-14 20:53:25,426] INFO [ExpirationReaper-0], Starting  (kafka.server.DelayedOperationPurgatory$ExpiredOperationReaper)\n",
      "[2018-02-14 20:53:25,630] INFO Creating /controller (is it secure? false) (kafka.utils.ZKCheckedEphemeral)\n",
      "[2018-02-14 20:53:25,689] INFO Result of znode creation is: OK (kafka.utils.ZKCheckedEphemeral)\n",
      "[2018-02-14 20:53:25,691] INFO 0 successfully elected as leader (kafka.server.ZookeeperLeaderElector)\n",
      "[2018-02-14 20:53:26,304] INFO New leader is 0 (kafka.server.ZookeeperLeaderElector$LeaderChangeListener)\n",
      "[2018-02-14 20:53:26,310] INFO [GroupCoordinator 0]: Starting up. (kafka.coordinator.GroupCoordinator)\n",
      "[2018-02-14 20:53:26,321] INFO [ExpirationReaper-0], Starting  (kafka.server.DelayedOperationPurgatory$ExpiredOperationReaper)\n",
      "[2018-02-14 20:53:26,331] INFO [GroupCoordinator 0]: Startup complete. (kafka.coordinator.GroupCoordinator)\n",
      "[2018-02-14 20:53:26,338] INFO [ExpirationReaper-0], Starting  (kafka.server.DelayedOperationPurgatory$ExpiredOperationReaper)\n",
      "[2018-02-14 20:53:26,384] INFO [Group Metadata Manager on Broker 0]: Removed 0 expired offsets in 72 milliseconds. (kafka.coordinator.GroupMetadataManager)\n",
      "[2018-02-14 20:53:26,445] INFO [ThrottledRequestReaper-Produce], Starting  (kafka.server.ClientQuotaManager$ThrottledRequestReaper)\n",
      "[2018-02-14 20:53:26,459] INFO [ThrottledRequestReaper-Fetch], Starting  (kafka.server.ClientQuotaManager$ThrottledRequestReaper)\n",
      "[2018-02-14 20:53:26,479] INFO Will not load MX4J, mx4j-tools.jar is not in the classpath (kafka.utils.Mx4jLoader$)\n",
      "[2018-02-14 20:53:26,547] INFO Creating /brokers/ids/0 (is it secure? false) (kafka.utils.ZKCheckedEphemeral)\n",
      "[2018-02-14 20:53:26,566] INFO Result of znode creation is: OK (kafka.utils.ZKCheckedEphemeral)\n",
      "[2018-02-14 20:53:26,573] INFO Registered broker 0 at path /brokers/ids/0 with addresses: PLAINTEXT -> EndPoint(snf-779692,9092,PLAINTEXT) (kafka.utils.ZkUtils)\n",
      "[2018-02-14 20:53:26,600] INFO Kafka version : 0.9.0.0 (org.apache.kafka.common.utils.AppInfoParser)\n",
      "[2018-02-14 20:53:26,602] INFO Kafka commitId : fc7243c2af4b2b4a (org.apache.kafka.common.utils.AppInfoParser)\n",
      "[2018-02-14 20:53:26,606] INFO [Kafka Server 0], started (kafka.server.KafkaServer)\n",
      "[2018-02-14 20:53:27,195] INFO [ReplicaFetcherManager on broker 0] Removed fetcher for partitions [twitter-stream,0] (kafka.server.ReplicaFetcherManager)\n",
      "[2018-02-14 20:53:27,256] INFO [ReplicaFetcherManager on broker 0] Removed fetcher for partitions [twitter-stream,0] (kafka.server.ReplicaFetcherManager)\n",
      "^C\n",
      "[2018-02-14 21:00:26,227] INFO [Kafka Server 0], shutting down (kafka.server.KafkaServer)\n",
      "[2018-02-14 21:00:26,248] INFO [Kafka Server 0], Starting controlled shutdown (kafka.server.KafkaServer)\n",
      "[2018-02-14 21:00:26,347] INFO [Kafka Server 0], Controlled shutdown succeeded (kafka.server.KafkaServer)\n",
      "[2018-02-14 21:00:26,366] INFO [Socket Server on Broker 0], Shutting down (kafka.network.SocketServer)\n"
     ]
    }
   ],
   "source": [
    "import os\n",
    "path = '/home/user/kafka_2.11-0.9.0.0/bin'\n",
    "os.chdir(path)\n",
    "file_p = '../config/server.properties'\n",
    "!./kafka-server-start.sh $file_p"
   ]
  },
  {
   "cell_type": "markdown",
   "metadata": {},
   "source": [
    "## Stop Zookeeper"
   ]
  },
  {
   "cell_type": "code",
   "execution_count": 1,
   "metadata": {
    "collapsed": false
   },
   "outputs": [
    {
     "name": "stdout",
     "output_type": "stream",
     "text": [
      "ZooKeeper JMX enabled by default\r\n",
      "Using config: /home/user/zookeeper-3.4.9/bin/../conf/zoo.cfg\r\n",
      "Stopping zookeeper ... STOPPED\r\n"
     ]
    }
   ],
   "source": [
    "import os\n",
    "path = '/home/user/zookeeper-3.4.9/bin'\n",
    "os.chdir(path)\n",
    "!./zkServer.sh stop"
   ]
  },
  {
   "cell_type": "code",
   "execution_count": null,
   "metadata": {
    "collapsed": true
   },
   "outputs": [],
   "source": []
  }
 ],
 "metadata": {
  "kernelspec": {
   "display_name": "Python 2",
   "language": "python",
   "name": "python2"
  },
  "language_info": {
   "codemirror_mode": {
    "name": "ipython",
    "version": 2
   },
   "file_extension": ".py",
   "mimetype": "text/x-python",
   "name": "python",
   "nbconvert_exporter": "python",
   "pygments_lexer": "ipython2",
   "version": "2.7.13"
  }
 },
 "nbformat": 4,
 "nbformat_minor": 2
}
