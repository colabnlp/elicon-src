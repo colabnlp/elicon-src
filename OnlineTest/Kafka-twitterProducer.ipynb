{
 "cells": [
  {
   "cell_type": "markdown",
   "metadata": {},
   "source": [
    "## Last try"
   ]
  },
  {
   "cell_type": "code",
   "execution_count": 2,
   "metadata": {
    "collapsed": false
   },
   "outputs": [
    {
     "name": "stdout",
     "output_type": "stream",
     "text": [
      "Collecting kafka\n",
      "  Downloading kafka-1.3.5-py2.py3-none-any.whl (207kB)\n",
      "\u001b[K    100% |████████████████████████████████| 215kB 765kB/s ta 0:00:01\n",
      "\u001b[?25hInstalling collected packages: kafka\n",
      "Successfully installed kafka-1.3.5\n",
      "Collecting tweepy\n",
      "  Downloading tweepy-3.5.0-py2.py3-none-any.whl\n",
      "Requirement already satisfied: six>=1.7.3 in /home/user/anaconda2/lib/python2.7/site-packages (from tweepy)\n",
      "Collecting requests-oauthlib>=0.4.1 (from tweepy)\n",
      "  Downloading requests_oauthlib-0.8.0-py2.py3-none-any.whl\n",
      "Requirement already satisfied: requests>=2.4.3 in /home/user/anaconda2/lib/python2.7/site-packages (from tweepy)\n",
      "Collecting oauthlib>=0.6.2 (from requests-oauthlib>=0.4.1->tweepy)\n",
      "  Downloading oauthlib-2.0.6.tar.gz (127kB)\n",
      "\u001b[K    100% |████████████████████████████████| 133kB 929kB/s ta 0:00:01\n",
      "\u001b[?25hBuilding wheels for collected packages: oauthlib\n",
      "  Running setup.py bdist_wheel for oauthlib ... \u001b[?25l-\b \b\\\b \b|\b \b/\b \bdone\n",
      "\u001b[?25h  Stored in directory: /home/user/.cache/pip/wheels/e5/46/f7/bb2fde81726295a13a71e3c6396d362ab408921c6562d6efc0\n",
      "Successfully built oauthlib\n",
      "Installing collected packages: oauthlib, requests-oauthlib, tweepy\n",
      "Successfully installed oauthlib-2.0.6 requests-oauthlib-0.8.0 tweepy-3.5.0\n"
     ]
    }
   ],
   "source": [
    "!pip install kafka\n",
    "!pip install tweepy"
   ]
  },
  {
   "cell_type": "code",
   "execution_count": 2,
   "metadata": {
    "collapsed": false
   },
   "outputs": [],
   "source": [
    "# import required libraries\n",
    "from kafka import SimpleProducer, KafkaClient\n",
    "from tweepy.streaming import StreamListener\n",
    "from tweepy import OAuthHandler\n",
    "from tweepy import Stream"
   ]
  },
  {
   "cell_type": "code",
   "execution_count": 3,
   "metadata": {
    "collapsed": false
   },
   "outputs": [],
   "source": [
    "# Kafka settings\n",
    "topic = b'twitter-stream'\n",
    "# setting up Kafka producer\n",
    "kafka = KafkaClient('localhost:9092')\n",
    "producer = SimpleProducer(kafka)"
   ]
  },
  {
   "cell_type": "code",
   "execution_count": 4,
   "metadata": {
    "collapsed": true
   },
   "outputs": [],
   "source": [
    "#This is a basic listener that just put received tweets to kafka cluster.\n",
    "class StdOutListener(StreamListener):\n",
    "    def on_data(self, data):\n",
    "        producer.send_messages(topic, data.encode('utf-8'))\n",
    "        #print data\n",
    "        return True\n",
    "\n",
    "    def on_error(self, status):\n",
    "        print status"
   ]
  },
  {
   "cell_type": "code",
   "execution_count": 5,
   "metadata": {
    "collapsed": false
   },
   "outputs": [],
   "source": [
    "import utils1\n",
    "# reads the terms to be tracked from a file\n",
    "# expects one term per line\n",
    "\n",
    "lexicon = 'QuakeLex.txt'\n",
    "\n",
    "def get_query_terms(input_filename):\n",
    "    query_terms = []\n",
    "    for line in input_filename:\n",
    "        query_terms.append(line.strip())\n",
    "    return query_terms\n",
    "\n",
    "try:\n",
    "        to_track = utils1.get_query_terms(open(lexicon,\"r\"))\n",
    "except Exception as e:\n",
    "        print \"The file path is seems to be wrong. Check the error below or run the script with -h. Please revise and restart the script\"\n",
    "        print e\n",
    "        exit(0)"
   ]
  },
  {
   "cell_type": "code",
   "execution_count": 6,
   "metadata": {
    "collapsed": true
   },
   "outputs": [],
   "source": [
    "consumer_key = 'm4pfoQYtQOCahpKEY55dlogg7'\n",
    "consumer_secret = 'TdU3rKhwfspQYrSA0GsPW7IooRkbw9opfZ82KZmADsGvnAUL01'\n",
    "access_token = '798171014693879808-9I6Ms2tOWxLmXlwVbNHmEoYQJxO97rB'\n",
    "access_secret = '3vEM0E6i6OfmNE95ng8VcK6dHtKS6qByQoD7mZtp7qqvb'"
   ]
  },
  {
   "cell_type": "code",
   "execution_count": 7,
   "metadata": {
    "collapsed": false
   },
   "outputs": [
    {
     "name": "stdout",
     "output_type": "stream",
     "text": [
      "running the twitter-stream python code\n"
     ]
    },
    {
     "ename": "KeyboardInterrupt",
     "evalue": "",
     "output_type": "error",
     "traceback": [
      "\u001b[0;31m---------------------------------------------------------------------------\u001b[0m",
      "\u001b[0;31mKeyboardInterrupt\u001b[0m                         Traceback (most recent call last)",
      "\u001b[0;32m<ipython-input-7-31173a35f45c>\u001b[0m in \u001b[0;36m<module>\u001b[0;34m()\u001b[0m\n\u001b[1;32m     10\u001b[0m         \u001b[0;32mtry\u001b[0m\u001b[0;34m:\u001b[0m\u001b[0;34m\u001b[0m\u001b[0m\n\u001b[1;32m     11\u001b[0m             \u001b[0;31m# stream.sample()\u001b[0m\u001b[0;34m\u001b[0m\u001b[0;34m\u001b[0m\u001b[0m\n\u001b[0;32m---> 12\u001b[0;31m             \u001b[0mstream\u001b[0m\u001b[0;34m.\u001b[0m\u001b[0mfilter\u001b[0m\u001b[0;34m(\u001b[0m\u001b[0mlanguages\u001b[0m\u001b[0;34m=\u001b[0m\u001b[0;34m[\u001b[0m\u001b[0;34m\"en\"\u001b[0m\u001b[0;34m]\u001b[0m\u001b[0;34m,\u001b[0m \u001b[0mtrack\u001b[0m\u001b[0;34m=\u001b[0m\u001b[0mto_track\u001b[0m\u001b[0;34m)\u001b[0m\u001b[0;34m\u001b[0m\u001b[0m\n\u001b[0m\u001b[1;32m     13\u001b[0m         \u001b[0;32mexcept\u001b[0m\u001b[0;34m:\u001b[0m\u001b[0;34m\u001b[0m\u001b[0m\n\u001b[1;32m     14\u001b[0m             \u001b[0;32mpass\u001b[0m\u001b[0;34m\u001b[0m\u001b[0m\n",
      "\u001b[0;31mKeyboardInterrupt\u001b[0m: "
     ]
    }
   ],
   "source": [
    "if __name__ == '__main__':\n",
    "    print 'running the twitter-stream python code'\n",
    "    #This handles Twitter authetification and the connection to Twitter Streaming API\n",
    "    l = StdOutListener()\n",
    "    auth = OAuthHandler(consumer_key, consumer_secret)\n",
    "    auth.set_access_token(access_token, access_secret)\n",
    "    stream = Stream(auth, l)\n",
    "    # Goal is to keep this process always going\n",
    "    while True:\n",
    "        try:\n",
    "            # stream.sample()\n",
    "            stream.filter(languages=[\"en\"], track=to_track)\n",
    "        except:\n",
    "            pass"
   ]
  },
  {
   "cell_type": "code",
   "execution_count": null,
   "metadata": {
    "collapsed": true
   },
   "outputs": [],
   "source": [
    "stream.filter(languages=[\"en\"], locations = [-122.75,36.8,-121.75,37.8])"
   ]
  },
  {
   "cell_type": "code",
   "execution_count": null,
   "metadata": {
    "collapsed": true
   },
   "outputs": [],
   "source": [
    "import re\n",
    "    keyword = [\"iPhone\", \"Samsung\", \"HTC\", \"Sony\", \"Blackberry\"]\n",
    "    patterns = [r'\\b%s\\b' % re.escape(s.strip()) for s in keyword.lower()]\n",
    "    there = re.compile('|'.join(patterns))\n",
    "    stream=[\"i have a iPhone\",\"i dont like Samsung\",\"HTC design are awesome\",\"Sony camera is good\",\"Blackberry lost market\",\"Nokia soldout to windows\"]\n",
    "    for i in stream:\n",
    "        if there.search(i):\n",
    "            print(\"Tweet Found  %r\" % (i))"
   ]
  }
 ],
 "metadata": {
  "kernelspec": {
   "display_name": "Python 2",
   "language": "python",
   "name": "python2"
  },
  "language_info": {
   "codemirror_mode": {
    "name": "ipython",
    "version": 2
   },
   "file_extension": ".py",
   "mimetype": "text/x-python",
   "name": "python",
   "nbconvert_exporter": "python",
   "pygments_lexer": "ipython2",
   "version": "2.7.13"
  }
 },
 "nbformat": 4,
 "nbformat_minor": 2
}
