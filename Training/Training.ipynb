{
 "cells": [
  {
   "cell_type": "markdown",
   "metadata": {},
   "source": [
    "## Spark NLP Annotations"
   ]
  },
  {
   "cell_type": "code",
   "execution_count": 1,
   "metadata": {
    "collapsed": true
   },
   "outputs": [],
   "source": [
    "data_file = '/home/user/elicon/data/Test_Data/Nepal_Quake/json/batch1/'\n",
    "df = spark.read.option(\"header\",\"true\").csv(data_file)"
   ]
  },
  {
   "cell_type": "code",
   "execution_count": 2,
   "metadata": {
    "collapsed": false
   },
   "outputs": [
    {
     "name": "stdout",
     "output_type": "stream",
     "text": [
      "+----------------------------------------------+-----------------------+-----------------------------+-------------------------------------------------------------------------------------------------------------------------+--------------------+--------------------------+--------------------+------------------------------------------+--------------------+--------------------+--------------------+--------------------+--------------------+-----------------------------------------+--------------------------------------------+------------------------------------+--------------------+--------------------+-------------------------------------------------------------------------------------------------+------------------------------+----------------------------------+----------------------------+--------------------------------+--------------------------------+----------------------+--------------------+----------------------+----------------------------+--------------------------+--------------------+--------------------+--------------------------------------+--------------------+---------------------+--------------------+--------------------+---------------------------------------------+-------------------------+---------------------+------------------------------------------+--------------------+--------------------+----------------------+--------------------+------------------------------+-----------------------+--------------------------------+-----------------------------------+---------------------------------------------------------------------------------+----------------------------------------------------------------------------------------+---------------------------------+------------------------------------------------------------------------------------------------+-------------------------------------------------------------------------------------------------------+---------------------------------------------------------------------------------+-----------------------------+---------------------------------------+-------------------------------------+-----------------------------+-----------------------------------+---------------------------+----------------------+-------------------------------+--------------------+-----------------------------+-----------------------+---------------------------+--------------------+--------------------+--------------------+---------------------+-----------------------------------------------------------------+-----------------------+-----------------------------+-----------------------------------------------------------------------------------------------------------+--------------------+---------------------------+--------------------+--------------------+-----------------------------------------+--------------------------------------------+------------------------------------+--------------------+--------------------+--------------------------------------------------------------------------------+------------------------------+----------------------------------+----------------------------+--------------------------------+--------------------------------+--------------------+--------------------+--------------------+------------------------+--------------------+----------------------------------------------------------------------------------------------+------------------------------+----------------------------------------------------------+------------------------------------+----------------------------+--------------------+--------------------+--------------------------+--------------------+-------------------------+--------------------+---------------------+---------------------------------------------+----------------------+----------------------+-------------------------------------------+--------------------+--------------------+-----------------------+--------------------+-------------------------------+------------------------+---------------------------------+-----------------------------------+------------------------------------------------------------------------------------------------------------------------------+-------------------------------------------------------------------------------------------------------------------------------------+----------------------------------+------------------------------------------------------------------------------------------------+-------------------------------------------------------------------------------------------------------+------------------------------------------------------------------------------+-----------------------------+---------------------------------------+-------------------------------------+-----------------------------+------------------------------------+----------------------------+-----------------------+--------------------------------+--------------------+------------------------------+------------------------+----------------------------+--------------------+---------------------+--------------------+----------------------+--------------------------+---------------------+--------------------+--------------------+--------------------+-----------------------------+--------------------+--------------------------+---------------------+--------------------+--------------------+--------------------+-----------------------------+--------------------+\n",
      "|{\"created_at\":\"Sat Apr 25 15:51:36 +0000 2015\"|\"id\":591992964324401152|\"id_str\":\"591992964324401152\"|\"text\":\"RT @mashable: Update: At least 876 dead in Nepal after huge earthquake shakes the region. http://t.co/cHhuTilz6E\"|  \"truncated\":false4|\"entities\":{\"hashtags\":[]5|       \"symbols\":[]6|\"user_mentions\":[{\"screen_name\":\"mashable\"|  \"name\":\"Mashable\"8|         \"id\":972651| \"id_str\":\"972651\"10|        \"indices\":[3|               12]}]|\"urls\":[{\"url\":\"http://t.co/cHhuTilz6E\"13|\"expanded_url\":\"http://on.mash.to/1b0RJVP\"14|\"display_url\":\"on.mash.to/1b0RJVP\"15|       \"indices\":[90|             112]}]}|\"source\":\"<a href=\\\"http://twitter.com/download/iphone\\\" rel=\\\"nofollow\\\">Twitter for iPhone</a>\"|\"in_reply_to_status_id\":null19|\"in_reply_to_status_id_str\":null20|\"in_reply_to_user_id\":null21|\"in_reply_to_user_id_str\":null22|\"in_reply_to_screen_name\":null23|\"user\":{\"id\":513312738|\"id_str\":\"513312738\"|\"name\":\"Nicole Ripken\"|\"screen_name\":\"NicoleRipken\"|\"location\":\"United States\"|    \"description\":\"\"|          \"url\":null|\"entities\":{\"description\":{\"urls\":[]}}| \"protected\":false32|\"followers_count\":255| \"friends_count\":253|    \"listed_count\":9|\"created_at\":\"Sat Mar 03 15:58:31 +0000 2012\"|\"favourites_count\":135944|\"utc_offset\":-1800038|\"time_zone\":\"Eastern Time (US & Canada)\"39| \"geo_enabled\":false|    \"verified\":false|\"statuses_count\":19406|       \"lang\":\"en\"43|\"contributors_enabled\":false44|\"is_translator\":false45|\"is_translation_enabled\":false46|\"profile_background_color\":\"C0DEED\"|\"profile_background_image_url\":\"http://abs.twimg.com/images/themes/theme1/bg.png\"|\"profile_background_image_url_https\":\"https://abs.twimg.com/images/themes/theme1/bg.png\"|\"profile_background_tile\":false50|\"profile_image_url\":\"http://pbs.twimg.com/profile_images/839568430999212033/SZbMtXf3_normal.jpg\"|\"profile_image_url_https\":\"https://pbs.twimg.com/profile_images/839568430999212033/SZbMtXf3_normal.jpg\"|\"profile_banner_url\":\"https://pbs.twimg.com/profile_banners/513312738/1489003689\"|\"profile_link_color\":\"1DA1F2\"|\"profile_sidebar_border_color\":\"C0DEED\"|\"profile_sidebar_fill_color\":\"DDEEF6\"|\"profile_text_color\":\"333333\"|\"profile_use_background_image\":true|\"has_extended_profile\":true|\"default_profile\":true|\"default_profile_image\":false61|   \"following\":false|\"follow_request_sent\":false63|\"notifications\":false64|\"translator_type\":\"none\"}65|        \"geo\":null66|\"coordinates\":null67|      \"place\":null68|\"contributors\":null69|\"retweeted_status\":{\"created_at\":\"Sat Apr 25 14:59:07 +0000 2015\"|\"id\":591979760387026944|\"id_str\":\"591979760387026944\"|\"text\":\"Update: At least 876 dead in Nepal after huge earthquake shakes the region. http://t.co/cHhuTilz6E\"| \"truncated\":false74|\"entities\":{\"hashtags\":[]75|      \"symbols\":[]76|  \"user_mentions\":[]|\"urls\":[{\"url\":\"http://t.co/cHhuTilz6E\"78|\"expanded_url\":\"http://on.mash.to/1b0RJVP\"79|\"display_url\":\"on.mash.to/1b0RJVP\"80|       \"indices\":[76|              98]}]}|\"source\":\"<a href=\\\"http://www.socialflow.com\\\" rel=\\\"nofollow\\\">SocialFlow</a>\"|\"in_reply_to_status_id\":null84|\"in_reply_to_status_id_str\":null85|\"in_reply_to_user_id\":null86|\"in_reply_to_user_id_str\":null87|\"in_reply_to_screen_name\":null88| \"user\":{\"id\":972651| \"id_str\":\"972651\"90| \"name\":\"Mashable\"91|\"screen_name\":\"mashable\"|       \"location\":\"\"|\"description\":\"Mashable is for superfans. We're not for the casually curious. Obsess with us.\"|\"url\":\"http://t.co/1Gm8aVACKn\"|\"entities\":{\"url\":{\"urls\":[{\"url\":\"http://t.co/1Gm8aVACKn\"|\"expanded_url\":\"http://mashable.com\"|\"display_url\":\"mashable.com\"|        \"indices\":[0|              22]}]}|\"description\":{\"urls\":[]}}|\"protected\":false102|\"followers_count\":9788346|\"friends_count\":2785|\"listed_count\":129620|\"created_at\":\"Mon Mar 12 01:28:01 +0000 2007\"|\"favourites_count\":823|\"utc_offset\":-18000108|\"time_zone\":\"Eastern Time (US & Canada)\"109|  \"geo_enabled\":true|     \"verified\":true|\"statuses_count\":277221|      \"lang\":\"en\"113|\"contributors_enabled\":false114|\"is_translator\":false115|\"is_translation_enabled\":false116|\"profile_background_color\":\"00AEEF\"|\"profile_background_image_url\":\"http://pbs.twimg.com/profile_background_images/705312036/bf7ca2a3f077d7e57b12a5ea4f1db268.png\"|\"profile_background_image_url_https\":\"https://pbs.twimg.com/profile_background_images/705312036/bf7ca2a3f077d7e57b12a5ea4f1db268.png\"|\"profile_background_tile\":false120|\"profile_image_url\":\"http://pbs.twimg.com/profile_images/941796662770651137/cDtLVz1j_normal.jpg\"|\"profile_image_url_https\":\"https://pbs.twimg.com/profile_images/941796662770651137/cDtLVz1j_normal.jpg\"|\"profile_banner_url\":\"https://pbs.twimg.com/profile_banners/972651/1401484849\"|\"profile_link_color\":\"00AEEF\"|\"profile_sidebar_border_color\":\"FFFFFF\"|\"profile_sidebar_fill_color\":\"88DBF4\"|\"profile_text_color\":\"3B3B3B\"|\"profile_use_background_image\":false|\"has_extended_profile\":false|\"default_profile\":false|\"default_profile_image\":false131|    \"following\":true|\"follow_request_sent\":false133|\"notifications\":false134|\"translator_type\":\"none\"}135|       \"geo\":null136|\"coordinates\":null137|     \"place\":null138|\"contributors\":null139|\"is_quote_status\":false140|\"retweet_count\":94141| \"favorite_count\":26|\"favorited\":false143|\"retweeted\":false144|\"possibly_sensitive\":false145|        \"lang\":\"en\"}|\"is_quote_status\":false147|\"retweet_count\":94148|  \"favorite_count\":0|\"favorited\":false150|\"retweeted\":false151|\"possibly_sensitive\":false152|       \"lang\":\"en\"}\"|\n",
      "+----------------------------------------------+-----------------------+-----------------------------+-------------------------------------------------------------------------------------------------------------------------+--------------------+--------------------------+--------------------+------------------------------------------+--------------------+--------------------+--------------------+--------------------+--------------------+-----------------------------------------+--------------------------------------------+------------------------------------+--------------------+--------------------+-------------------------------------------------------------------------------------------------+------------------------------+----------------------------------+----------------------------+--------------------------------+--------------------------------+----------------------+--------------------+----------------------+----------------------------+--------------------------+--------------------+--------------------+--------------------------------------+--------------------+---------------------+--------------------+--------------------+---------------------------------------------+-------------------------+---------------------+------------------------------------------+--------------------+--------------------+----------------------+--------------------+------------------------------+-----------------------+--------------------------------+-----------------------------------+---------------------------------------------------------------------------------+----------------------------------------------------------------------------------------+---------------------------------+------------------------------------------------------------------------------------------------+-------------------------------------------------------------------------------------------------------+---------------------------------------------------------------------------------+-----------------------------+---------------------------------------+-------------------------------------+-----------------------------+-----------------------------------+---------------------------+----------------------+-------------------------------+--------------------+-----------------------------+-----------------------+---------------------------+--------------------+--------------------+--------------------+---------------------+-----------------------------------------------------------------+-----------------------+-----------------------------+-----------------------------------------------------------------------------------------------------------+--------------------+---------------------------+--------------------+--------------------+-----------------------------------------+--------------------------------------------+------------------------------------+--------------------+--------------------+--------------------------------------------------------------------------------+------------------------------+----------------------------------+----------------------------+--------------------------------+--------------------------------+--------------------+--------------------+--------------------+------------------------+--------------------+----------------------------------------------------------------------------------------------+------------------------------+----------------------------------------------------------+------------------------------------+----------------------------+--------------------+--------------------+--------------------------+--------------------+-------------------------+--------------------+---------------------+---------------------------------------------+----------------------+----------------------+-------------------------------------------+--------------------+--------------------+-----------------------+--------------------+-------------------------------+------------------------+---------------------------------+-----------------------------------+------------------------------------------------------------------------------------------------------------------------------+-------------------------------------------------------------------------------------------------------------------------------------+----------------------------------+------------------------------------------------------------------------------------------------+-------------------------------------------------------------------------------------------------------+------------------------------------------------------------------------------+-----------------------------+---------------------------------------+-------------------------------------+-----------------------------+------------------------------------+----------------------------+-----------------------+--------------------------------+--------------------+------------------------------+------------------------+----------------------------+--------------------+---------------------+--------------------+----------------------+--------------------------+---------------------+--------------------+--------------------+--------------------+-----------------------------+--------------------+--------------------------+---------------------+--------------------+--------------------+--------------------+-----------------------------+--------------------+\n",
      "|                          {\"created_at\":\"Sa...|   \"id\":591992969407...|         \"id_str\":\"5919929...|                                                                                                     \"text\":\"@decappea...|   \"truncated\":false|      \"entities\":{\"hash...|        \"symbols\":[]|                      \"user_mentions\":[...|        \"name\":\"DEC\"|       \"id\":25488827| \"id_str\":\"25488827\"|        \"indices\":[0|               10]}]|                               \"urls\":[]}|                        \"source\":\"<a href...|                \"in_reply_to_stat...|\"in_reply_to_stat...|\"in_reply_to_user...|                                                                             \"in_reply_to_user...|          \"in_reply_to_scre...|              \"user\":{\"id\":6247...|         \"id_str\":\"62479362\"|            \"name\":\"Mags Rivett\"|            \"screen_name\":\"ma...|  \"location\":\"Hamps...|\"description\":\"Al...|   comms and digita...|         wine & life. Vie...|                    obvs.\"|          \"url\":null|\"entities\":{\"desc...|                     \"protected\":false|\"followers_count\"...|  \"friends_count\":250|   \"listed_count\":36|\"created_at\":\"Mon...|                         \"favourites_count...|           \"utc_offset\":0| \"time_zone\":\"London\"|                       \"geo_enabled\":false|    \"verified\":false|\"statuses_count\":969|           \"lang\":\"en\"|\"contributors_ena...|          \"is_translator\":f...|   \"is_translation_e...|            \"profile_backgrou...|               \"profile_backgrou...|                                                             \"profile_backgrou...|                                                                    \"profile_backgrou...|             \"profile_image_ur...|                                                                            \"profile_image_ur...|                                                                                   \"profile_banner_u...|                                                             \"profile_link_col...|         \"profile_sidebar_...|                   \"profile_sidebar_...|                 \"profile_text_col...|         \"profile_use_back...|               \"has_extended_pro...|       \"default_profile\"...|  \"default_profile_...|              \"following\":false|\"follow_request_s...|         \"notifications\":f...|   \"translator_type\"...|                 \"geo\":null|  \"coordinates\":null|        \"place\":null| \"contributors\":null| \"is_quote_status\"...|                                                \"retweet_count\":0|     \"favorite_count\":0|            \"favorited\":false|                                                                                          \"retweeted\":false|       \"lang\":\"en\"}\"|                       null|                null|                null|                                     null|                                        null|                                null|                null|                null|                                                                            null|                          null|                              null|                        null|                            null|                            null|                null|                null|                null|                    null|                null|                                                                                          null|                          null|                                                      null|                                null|                        null|                null|                null|                      null|                null|                     null|                null|                 null|                                         null|                  null|                  null|                                       null|                null|                null|                   null|                null|                           null|                    null|                             null|                               null|                                                                                                                          null|                                                                                                                                 null|                              null|                                                                                            null|                                                                                                   null|                                                                          null|                         null|                                   null|                                 null|                         null|                                null|                        null|                   null|                            null|                null|                          null|                    null|                        null|                null|                 null|                null|                  null|                      null|                 null|                null|                null|                null|                         null|                null|                      null|                 null|                null|                null|                null|                         null|                null|\n",
      "|                          {\"created_at\":\"Sa...|   \"id\":591992948734...|         \"id_str\":\"5919929...|                                                                                                     \"text\":\"The donat...|   \"truncated\":false|      \"entities\":{\"hash...|       \"indices\":[99|                                     115]}|{\"text\":\"NepalQua...|      \"indices\":[116|              133]}]|        \"symbols\":[]|  \"user_mentions\":[]|                     \"urls\":[{\"url\":\"h...|                        \"expanded_url\":\"h...|                \"display_url\":\"bi...|       \"indices\":[76|              98]}]}|                                                                             \"source\":\"<a href...|          \"in_reply_to_stat...|              \"in_reply_to_stat...|        \"in_reply_to_user...|            \"in_reply_to_user...|            \"in_reply_to_scre...|  \"user\":{\"id\":1470...|\"id_str\":\"147078910\"|  \"name\":\"Anne Mari...|        \"screen_name\":\"th...|       \"location\":\"Seattle|                 Wa\"|\"description\":\"Fa...|                       Loves education|         photography|                 tech|      current events|reading and the S...|                                   \"url\":null|     \"entities\":{\"desc...|    \"protected\":false|                      \"followers_count\"...|\"friends_count\":2189|   \"listed_count\":26|  \"created_at\":\"Sun...|\"favourites_count...|           \"utc_offset\":-28800|   \"time_zone\":\"Paci...|              \"geo_enabled\":true|                   \"verified\":false|                                                             \"statuses_count\":...|                                                                             \"lang\":\"en\"|             \"contributors_ena...|                                                                            \"is_translator\":f...|                                                                                   \"is_translation_e...|                                                             \"profile_backgrou...|         \"profile_backgrou...|                   \"profile_backgrou...|                 \"profile_backgrou...|         \"profile_image_ur...|               \"profile_image_ur...|       \"profile_banner_u...|  \"profile_link_col...|           \"profile_sidebar_...|\"profile_sidebar_...|         \"profile_text_col...|   \"profile_use_back...|       \"has_extended_pro...|\"default_profile\"...|\"default_profile_...|   \"following\":false| \"follow_request_s...|                                             \"notifications\":f...|   \"translator_type\"...|                   \"geo\":null|                                                                                         \"coordinates\":null|        \"place\":null|        \"contributors\":null|\"is_quote_status\"...|   \"retweet_count\":0|                       \"favorite_count\":1|                           \"favorited\":false|                   \"retweeted\":false|\"possibly_sensiti...|       \"lang\":\"en\"}\"|                                                                            null|                          null|                              null|                        null|                            null|                            null|                null|                null|                null|                    null|                null|                                                                                          null|                          null|                                                      null|                                null|                        null|                null|                null|                      null|                null|                     null|                null|                 null|                                         null|                  null|                  null|                                       null|                null|                null|                   null|                null|                           null|                    null|                             null|                               null|                                                                                                                          null|                                                                                                                                 null|                              null|                                                                                            null|                                                                                                   null|                                                                          null|                         null|                                   null|                                 null|                         null|                                null|                        null|                   null|                            null|                null|                          null|                    null|                        null|                null|                 null|                null|                  null|                      null|                 null|                null|                null|                null|                         null|                null|                      null|                 null|                null|                null|                null|                         null|                null|\n",
      "|                          {\"created_at\":\"Sa...|   \"id\":591992959987...|         \"id_str\":\"5919929...|                                                                                                     \"text\":\"RT @gurda...|   \"truncated\":false|      \"entities\":{\"hash...|       \"indices\":[84|                                      87]}|{\"text\":\"NepalEar...|       \"indices\":[88|              104]}]|        \"symbols\":[]|\"user_mentions\":[...|                     \"name\":\"Gurdas Maan\"|                             \"id\":2481283506|                \"id_str\":\"2481283...|        \"indices\":[3|               14]}]|                                                                                       \"urls\":[]}|          \"source\":\"<a href...|              \"in_reply_to_stat...|        \"in_reply_to_stat...|            \"in_reply_to_user...|            \"in_reply_to_user...|  \"in_reply_to_scre...|\"user\":{\"id\":2290...|  \"id_str\":\"2290693...|        \"name\":\"Khush Dee...|      \"screen_name\":\"Kh...|\"location\":\"कोट क...|               भारत\"|                  \"description\":\"🌹...|          \"url\":null| \"entities\":{\"desc...|   \"protected\":false|\"followers_count\":74|                           \"friends_count\":55|         \"listed_count\":0| \"created_at\":\"Tue...|                      \"favourites_count...|   \"utc_offset\":null|    \"time_zone\":null|   \"geo_enabled\":false|    \"verified\":false|          \"statuses_count\":579|            \"lang\":\"en\"|            \"contributors_ena...|               \"is_translator\":f...|                                                             \"is_translation_e...|                                                                    \"profile_backgrou...|             \"profile_backgrou...|                                                                            \"profile_backgrou...|                                                                                   \"profile_backgrou...|                                                             \"profile_image_ur...|         \"profile_image_ur...|                   \"profile_banner_u...|                 \"profile_link_col...|         \"profile_sidebar_...|               \"profile_sidebar_...|       \"profile_text_col...|  \"profile_use_back...|           \"has_extended_pro...|\"default_profile\"...|         \"default_profile_...|      \"following\":false|       \"follow_request_s...|\"notifications\":f...|\"translator_type\"...|          \"geo\":null|   \"coordinates\":null|                                                     \"place\":null|    \"contributors\":null|         \"retweeted_status...|                                                                                       \"id\":591941615452...|\"id_str\":\"5919416...|       \"text\":\"Rab bhali...|   \"truncated\":false|\"entities\":{\"hash...|                            \"indices\":[68|                                        71]}|                {\"text\":\"NepalEar...|       \"indices\":[72|               88]}]|                                                                    \"symbols\":[]|            \"user_mentions\":[]|                         \"urls\":[]|        \"media\":[{\"id\":59...|            \"id_str\":\"5919415...|                  \"indices\":[116|                138]|\"media_url\":\"http...|\"media_url_https\"...|    \"url\":\"http://t.c...|\"display_url\":\"pi...|                                                                          \"expanded_url\":\"h...|                \"type\":\"photo\"|                                      \"sizes\":{\"thumb\":...|                             \"h\":150|            \"resize\":\"crop\"}|   \"medium\":{\"w\":600|             \"h\":410|           \"resize\":\"fit\"}|    \"large\":{\"w\":600|                  \"h\":410|     \"resize\":\"fit\"}|     \"small\":{\"w\":600|                                      \"h\":410|   \"resize\":\"fit\"}}}]}|  \"extended_entitie...|                       \"id_str\":\"5919415...|      \"indices\":[116|                138]|   \"media_url\":\"http...|\"media_url_https\"...|           \"url\":\"http://t.c...|    \"display_url\":\"pi...|             \"expanded_url\":\"h...|                     \"type\":\"photo\"|                                                                                                          \"sizes\":{\"thumb\":...|                                                                                                                              \"h\":150|                  \"resize\":\"crop\"}|                                                                               \"medium\":{\"w\":600|                                                                                                \"h\":410|                                                               \"resize\":\"fit\"}|             \"large\":{\"w\":600|                                \"h\":410|                      \"resize\":\"fit\"}|             \"small\":{\"w\":600|                             \"h\":410|         \"resize\":\"fit\"}}}]}|   \"source\":\"<a href...|            \"in_reply_to_stat...|\"in_reply_to_stat...|          \"in_reply_to_user...|    \"in_reply_to_user...|        \"in_reply_to_scre...|\"user\":{\"id\":2481...| \"id_str\":\"2481283...|\"name\":\"Gurdas Maan\"|  \"screen_name\":\"gu...|             \"location\":\"\"| \"description\":\"MI...|\"url\":\"https://t....|\"entities\":{\"url\"...|\"expanded_url\":\"h...|         \"display_url\":\"in...|        \"indices\":[0|                    23]}]}| \"description\":{\"u...|\"expanded_url\":\"h...|\"display_url\":\"yo...|       \"indices\":[21|                      44]}]}}|   \"protected\":false|\n",
      "|                          {\"created_at\":\"Sa...|   \"id\":591992964961...|         \"id_str\":\"5919929...|                                                                                                     \"text\":\"RT @wwwbi...|   \"truncated\":false|      \"entities\":{\"hash...|        \"symbols\":[]|                      \"user_mentions\":[...|\"name\":\"norman re...|       \"id\":25460615| \"id_str\":\"25460615\"|        \"indices\":[3|               18]}]|                     \"urls\":[{\"url\":\"h...|                        \"expanded_url\":\"h...|                \"display_url\":\"gl...|       \"indices\":[64|              86]}]}|                                                                             \"source\":\"<a href...|          \"in_reply_to_stat...|              \"in_reply_to_stat...|        \"in_reply_to_user...|            \"in_reply_to_user...|            \"in_reply_to_scre...|  \"user\":{\"id\":2952...|\"id_str\":\"2952413...|  \"name\":\"Rosa Love...|        \"screen_name\":\"ro...|      \"location\":\"Wayne...|\"description\":\"Pr...|          \"url\":null|                  \"entities\":{\"desc...|   \"protected\":false| \"followers_count\"...| \"friends_count\":215|    \"listed_count\":0|                         \"created_at\":\"Wed...|     \"favourites_count...|  \"utc_offset\":-28800|                      \"time_zone\":\"Paci...| \"geo_enabled\":false|    \"verified\":false|  \"statuses_count\":...|         \"lang\":\"en\"|          \"contributors_ena...|   \"is_translator\":f...|            \"is_translation_e...|               \"profile_backgrou...|                                                             \"profile_backgrou...|                                                                    \"profile_backgrou...|             \"profile_backgrou...|                                                                            \"profile_image_ur...|                                                                                   \"profile_image_ur...|                                                             \"profile_banner_u...|         \"profile_link_col...|                   \"profile_sidebar_...|                 \"profile_sidebar_...|         \"profile_text_col...|               \"profile_use_back...|       \"has_extended_pro...|  \"default_profile\"...|           \"default_profile_...|   \"following\":false|         \"follow_request_s...|   \"notifications\":f...|       \"translator_type\"...|          \"geo\":null|  \"coordinates\":null|        \"place\":null|  \"contributors\":null|                                             \"retweeted_status...|   \"id\":591977241237...|         \"id_str\":\"5919772...|                                                                                       \"text\":\"Nepal Ear...|   \"truncated\":false|       \"entities\":{\"hash...|        \"symbols\":[]|  \"user_mentions\":[]|                     \"urls\":[{\"url\":\"h...|                        \"expanded_url\":\"h...|                \"display_url\":\"gl...|       \"indices\":[44|              66]}]}|                                                            \"source\":\"<a href...|          \"in_reply_to_stat...|              \"in_reply_to_stat...|        \"in_reply_to_user...|            \"in_reply_to_user...|            \"in_reply_to_scre...|\"user\":{\"id\":2546...| \"id_str\":\"25460615\"|\"name\":\"norman re...|    \"screen_name\":\"ww...|    \"location\":\"nyc\"|                                                                          \"description\":\"ht...|          \"url\":\"http://t.c...|                                      \"entities\":{\"url\"...|                \"expanded_url\":\"h...|        \"display_url\":\"bi...|        \"indices\":[0|              22]}]}|      \"description\":{\"u...|\"expanded_url\":\"h...|     \"display_url\":\"bi...|        \"indices\":[0|              22]}]}}|                            \"protected\":false|  \"followers_count\"...|  \"friends_count\":1...|                        \"listed_count\":9423|\"created_at\":\"Fri...|\"favourites_count...|    \"utc_offset\":-18000|\"time_zone\":\"East...|             \"geo_enabled\":true|         \"verified\":true|             \"statuses_count\":...|                        \"lang\":\"en\"|                                                                                                          \"contributors_ena...|                                                                                                                 \"is_translator\":f...|              \"is_translation_e...|                                                                            \"profile_backgrou...|                                                                                   \"profile_backgrou...|                                                          \"profile_backgrou...|         \"profile_backgrou...|                   \"profile_image_ur...|                 \"profile_image_ur...|         \"profile_banner_u...|                \"profile_link_col...|        \"profile_sidebar_...|   \"profile_sidebar_...|            \"profile_text_col...|\"profile_use_back...|          \"has_extended_pro...|    \"default_profile\"...|        \"default_profile_...|   \"following\":false| \"follow_request_s...|\"notifications\":f...|  \"translator_type\"...|                \"geo\":null|   \"coordinates\":null|        \"place\":null| \"contributors\":null|\"is_quote_status\"...|         \"retweet_count\":1472|\"favorite_count\":...|         \"favorited\":false|    \"retweeted\":false|\"possibly_sensiti...|        \"lang\":\"en\"}|\"is_quote_status\"...|         \"retweet_count\":1472|  \"favorite_count\":0|\n",
      "|                          {\"created_at\":\"Sa...|   \"id\":591992963405...|         \"id_str\":\"5919929...|                                                                                                     \"text\":\"RT @RailM...| 1 lakh Rail Neer...|         \"truncated\":false|\"entities\":{\"hash...|                              \"symbols\":[]|\"user_mentions\":[...|\"name\":\"Ministry ...|     \"id\":2602959463|\"id_str\":\"2602959...|        \"indices\":[3|                                     16]}|                        {\"screen_name\":\"s...|                \"name\":\"Suresh  P...|      \"id\":141208596|\"id_str\":\"141208596\"|                                                                                    \"indices\":[38|                         52]}]|                        \"urls\":[]}|        \"source\":\"<a href...|            \"in_reply_to_stat...|            \"in_reply_to_stat...|  \"in_reply_to_user...|\"in_reply_to_user...|  \"in_reply_to_scre...|        \"user\":{\"id\":1006...|      \"id_str\":\"100624768\"|\"name\":\"the FAKE ...|\"screen_name\":\"ji...|                  \"location\":\"The A...|\"description\":\"I ...| \"url\":\"https://t....|\"entities\":{\"url\"...|\"expanded_url\":\"h...|                         \"display_url\":\"bi...|             \"indices\":[0|               23]}]}|                      \"description\":{\"u...|   \"protected\":false|\"followers_count\"...|   \"friends_count\":108|   \"listed_count\":15|          \"created_at\":\"Wed...|   \"favourites_count...|              \"utc_offset\":19800|               \"time_zone\":\"Kolk...|                                                               \"geo_enabled\":true|                                                                        \"verified\":false|             \"statuses_count\":...|                                                                                     \"lang\":\"en\"|                                                                                   \"contributors_ena...|                                                             \"is_translator\":f...|         \"is_translation_e...|                   \"profile_backgrou...|                 \"profile_backgrou...|         \"profile_backgrou...|               \"profile_backgrou...|       \"profile_image_ur...|  \"profile_image_ur...|           \"profile_banner_u...|\"profile_link_col...|         \"profile_sidebar_...|   \"profile_sidebar_...|       \"profile_text_col...|\"profile_use_back...|\"has_extended_pro...|\"default_profile\"...| \"default_profile_...|                                                \"following\":false|   \"follow_request_s...|         \"notifications\":f...|                                                                                       \"translator_type\"...|          \"geo\":null|         \"coordinates\":null|        \"place\":null| \"contributors\":null|                     \"retweeted_status...|                        \"id\":591972655193...|                \"id_str\":\"5919726...|\"text\":\"As instru...| 1 lakh Rail Neer...|                                                               \"truncated\":false|          \"entities\":{\"hash...|                      \"symbols\":[]|        \"user_mentions\":[...|            \"name\":\"Suresh  P...|                  \"id\":141208596|\"id_str\":\"141208596\"|       \"indices\":[20|               34]}]|              \"urls\":[]}|\"source\":\"<a href...|                                                                          \"in_reply_to_stat...|          \"in_reply_to_stat...|                                      \"in_reply_to_user...|                \"in_reply_to_user...|        \"in_reply_to_scre...|\"user\":{\"id\":2602...|\"id_str\":\"2602959...|      \"name\":\"Ministry ...|\"screen_name\":\"Ra...|            \"location\":\"\"|\"description\":\"Of...|  Government of In...|                         \"url\":\"https://t....|  \"entities\":{\"url\"...|  \"expanded_url\":\"h...|                       \"display_url\":\"in...|        \"indices\":[0|              23]}]}|   \"description\":{\"u...|   \"protected\":false|           \"followers_count\"...|     \"friends_count\":160|              \"listed_count\":1679|               \"created_at\":\"Fri...|                                                                                                          \"favourites_count...|                                                                                                                   \"utc_offset\":19800|              \"time_zone\":\"New ...|                                                                              \"geo_enabled\":true|                                                                                        \"verified\":true|                                                          \"statuses_count\":...|                  \"lang\":\"en\"|                   \"contributors_ena...|                 \"is_translator\":f...|         \"is_translation_e...|                \"profile_backgrou...|        \"profile_backgrou...|   \"profile_backgrou...|            \"profile_backgrou...|\"profile_image_ur...|          \"profile_image_ur...|    \"profile_banner_u...|        \"profile_link_col...|\"profile_sidebar_...| \"profile_sidebar_...|\"profile_text_col...|  \"profile_use_back...|      \"has_extended_pro...| \"default_profile\"...|\"default_profile_...|   \"following\":false|\"follow_request_s...|         \"notifications\":f...|\"translator_type\"...|                \"geo\":null|   \"coordinates\":null|        \"place\":null| \"contributors\":null|\"is_quote_status\"...|          \"retweet_count\":870|\"favorite_count\":644|\n",
      "|                          {\"created_at\":\"Sa...|   \"id\":591992963112...|         \"id_str\":\"5919929...|                                                                                                     \"text\":\".@channel...|   \"truncated\":false|      \"entities\":{\"hash...|        \"symbols\":[]|                      \"user_mentions\":[...|   \"name\":\"ערוץ עשר\"|       \"id\":18600746| \"id_str\":\"18600746\"|        \"indices\":[1|               11]}]|                               \"urls\":[]}|                        \"source\":\"<a href...|                \"in_reply_to_stat...|\"in_reply_to_stat...|\"in_reply_to_user...|                                                                             \"in_reply_to_user...|          \"in_reply_to_scre...|              \"user\":{\"id\":2622...|         \"id_str\":\"26223622\"|            \"name\":\"Ruth Mark...|            \"screen_name\":\"re...|  \"location\":\"Jerus...|\"description\":\"Je...|        views my own)\"|        \"url\":\"https://t....|      \"entities\":{\"url\"...|\"expanded_url\":\"h...|\"display_url\":\"wa...|                          \"indices\":[0|              23]}]}| \"description\":{\"u...|   \"protected\":false|\"followers_count\"...|                         \"friends_count\":3431|       \"listed_count\":356| \"created_at\":\"Tue...|                      \"favourites_count...|   \"utc_offset\":7200|\"time_zone\":\"Jeru...|    \"geo_enabled\":true|     \"verified\":true|          \"statuses_count\":...|            \"lang\":\"en\"|            \"contributors_ena...|               \"is_translator\":f...|                                                             \"is_translation_e...|                                                                    \"profile_backgrou...|             \"profile_backgrou...|                                                                            \"profile_backgrou...|                                                                                   \"profile_backgrou...|                                                             \"profile_image_ur...|         \"profile_image_ur...|                   \"profile_banner_u...|                 \"profile_link_col...|         \"profile_sidebar_...|               \"profile_sidebar_...|       \"profile_text_col...|  \"profile_use_back...|           \"has_extended_pro...|\"default_profile\"...|         \"default_profile_...|      \"following\":false|       \"follow_request_s...|\"notifications\":f...|\"translator_type\"...|          \"geo\":null|   \"coordinates\":null|                                                     \"place\":null|    \"contributors\":null|         \"is_quote_status\"...|                                                                                          \"retweet_count\":3|  \"favorite_count\":1|          \"favorited\":false|   \"retweeted\":false|       \"lang\":\"en\"}\"|                                     null|                                        null|                                null|                null|                null|                                                                            null|                          null|                              null|                        null|                            null|                            null|                null|                null|                null|                    null|                null|                                                                                          null|                          null|                                                      null|                                null|                        null|                null|                null|                      null|                null|                     null|                null|                 null|                                         null|                  null|                  null|                                       null|                null|                null|                   null|                null|                           null|                    null|                             null|                               null|                                                                                                                          null|                                                                                                                                 null|                              null|                                                                                            null|                                                                                                   null|                                                                          null|                         null|                                   null|                                 null|                         null|                                null|                        null|                   null|                            null|                null|                          null|                    null|                        null|                null|                 null|                null|                  null|                      null|                 null|                null|                null|                null|                         null|                null|                      null|                 null|                null|                null|                null|                         null|                null|\n",
      "|                          {\"created_at\":\"Sa...|   \"id\":591992975867...|         \"id_str\":\"5919929...|                                                                                                     \"text\":\"There are...|   \"truncated\":false|      \"entities\":{\"hash...|      \"indices\":[123|                                    127]}]|        \"symbols\":[]|\"user_mentions\":[...|\"name\":\"New York ...|        \"id\":9763482|  \"id_str\":\"9763482\"|                            \"indices\":[31|                                       43]}]|                          \"urls\":[]}|\"source\":\"<a href...|\"in_reply_to_stat...|                                                                             \"in_reply_to_stat...|          \"in_reply_to_user...|              \"in_reply_to_user...|        \"in_reply_to_scre...|            \"user\":{\"id\":1501...|             \"id_str\":\"15016579\"|     \"name\":\"Miss JMV\"|\"screen_name\":\"Mo...|  \"location\":\"New York|                         NY\"|          \"description\":\"\"|          \"url\":null|\"entities\":{\"desc...|                     \"protected\":false|\"followers_count\"...|  \"friends_count\":938|   \"listed_count\":40|\"created_at\":\"Thu...|                         \"favourites_count...|      \"utc_offset\":-18000| \"time_zone\":\"East...|                       \"geo_enabled\":false|    \"verified\":false|\"statuses_count\":...|           \"lang\":\"en\"|\"contributors_ena...|          \"is_translator\":f...|   \"is_translation_e...|            \"profile_backgrou...|               \"profile_backgrou...|                                                             \"profile_backgrou...|                                                                    \"profile_backgrou...|             \"profile_image_ur...|                                                                            \"profile_image_ur...|                                                                                   \"profile_banner_u...|                                                             \"profile_link_col...|         \"profile_sidebar_...|                   \"profile_sidebar_...|                 \"profile_text_col...|         \"profile_use_back...|               \"has_extended_pro...|       \"default_profile\"...|  \"default_profile_...|              \"following\":false|\"follow_request_s...|         \"notifications\":f...|   \"translator_type\"...|                 \"geo\":null|  \"coordinates\":null|        \"place\":null| \"contributors\":null| \"is_quote_status\"...|                                                \"retweet_count\":0|     \"favorite_count\":3|            \"favorited\":false|                                                                                          \"retweeted\":false|       \"lang\":\"en\"}\"|                       null|                null|                null|                                     null|                                        null|                                null|                null|                null|                                                                            null|                          null|                              null|                        null|                            null|                            null|                null|                null|                null|                    null|                null|                                                                                          null|                          null|                                                      null|                                null|                        null|                null|                null|                      null|                null|                     null|                null|                 null|                                         null|                  null|                  null|                                       null|                null|                null|                   null|                null|                           null|                    null|                             null|                               null|                                                                                                                          null|                                                                                                                                 null|                              null|                                                                                            null|                                                                                                   null|                                                                          null|                         null|                                   null|                                 null|                         null|                                null|                        null|                   null|                            null|                null|                          null|                    null|                        null|                null|                 null|                null|                  null|                      null|                 null|                null|                null|                null|                         null|                null|                      null|                 null|                null|                null|                null|                         null|                null|\n",
      "|                          {\"created_at\":\"Sa...|   \"id\":591992974445...|         \"id_str\":\"5919929...|                                                                                                     \"text\":\"#thoughts...|   \"truncated\":false|      \"entities\":{\"hash...|        \"indices\":[0|                                       9]}|   {\"text\":\"prayers\"|       \"indices\":[14|                22]}|     {\"text\":\"Nepal\"|       \"indices\":[67|                                    73]}]|                                \"symbols\":[]|                  \"user_mentions\":[]|          \"urls\":[]}|\"source\":\"<a href...|                                                                             \"in_reply_to_stat...|          \"in_reply_to_stat...|              \"in_reply_to_user...|        \"in_reply_to_user...|            \"in_reply_to_scre...|            \"user\":{\"id\":2411...|  \"id_str\":\"241167255\"|       \"name\":\"Stef\"|  \"screen_name\":\"St...|        \"location\":\"Best ...|      \"description\":\"Ve...| Series & Movie J...|  I have  a cat n...|                            \"url\":null|\"entities\":{\"desc...|    \"protected\":false|\"followers_count\":95| \"friends_count\":173|                            \"listed_count\":11|     \"created_at\":\"Fri...| \"favourites_count...|                         \"utc_offset\":3600|\"time_zone\":\"Berlin\"| \"geo_enabled\":false|      \"verified\":false|\"statuses_count\":...|                   \"lang\":\"de\"|   \"contributors_ena...|            \"is_translator\":f...|               \"is_translation_e...|                                                             \"profile_backgrou...|                                                                    \"profile_backgrou...|             \"profile_backgrou...|                                                                            \"profile_backgrou...|                                                                                   \"profile_image_ur...|                                                             \"profile_image_ur...|         \"profile_banner_u...|                   \"profile_link_col...|                 \"profile_sidebar_...|         \"profile_sidebar_...|               \"profile_text_col...|       \"profile_use_back...|  \"has_extended_pro...|           \"default_profile\"...|\"default_profile_...|            \"following\":false|   \"follow_request_s...|       \"notifications\":f...|\"translator_type\"...|          \"geo\":null|  \"coordinates\":null|         \"place\":null|                                              \"contributors\":null|   \"is_quote_status\"...|            \"retweet_count\":0|                                                                                         \"favorite_count\":0|   \"favorited\":false|          \"retweeted\":false|       \"lang\":\"en\"}\"|                null|                                     null|                                        null|                                null|                null|                null|                                                                            null|                          null|                              null|                        null|                            null|                            null|                null|                null|                null|                    null|                null|                                                                                          null|                          null|                                                      null|                                null|                        null|                null|                null|                      null|                null|                     null|                null|                 null|                                         null|                  null|                  null|                                       null|                null|                null|                   null|                null|                           null|                    null|                             null|                               null|                                                                                                                          null|                                                                                                                                 null|                              null|                                                                                            null|                                                                                                   null|                                                                          null|                         null|                                   null|                                 null|                         null|                                null|                        null|                   null|                            null|                null|                          null|                    null|                        null|                null|                 null|                null|                  null|                      null|                 null|                null|                null|                null|                         null|                null|                      null|                 null|                null|                null|                null|                         null|                null|\n",
      "|                          {\"created_at\":\"Sa...|   \"id\":591992968548...|         \"id_str\":\"5919929...|                                                                                                     \"text\":\"RT @CNNIm...|   \"truncated\":false|      \"entities\":{\"hash...|       \"indices\":[15|                                      31]}|     {\"text\":\"Nepal\"|       \"indices\":[83|                89]}|{\"text\":\"Earthquake\"|      \"indices\":[112|                                   123]}]|                                \"symbols\":[]|                \"user_mentions\":[...|\"name\":\"Impact Yo...|      \"id\":105153029|                                                                             \"id_str\":\"105153029\"|                  \"indices\":[3|                              13]}|        {\"screen_name\":\"C...|            \"name\":\"Impact Yo...|                  \"id\":105153029|  \"id_str\":\"105153029\"|       \"indices\":[35|                 45]}]|                  \"urls\":[]}|      \"source\":\"<a href...|\"in_reply_to_stat...|\"in_reply_to_stat...|                  \"in_reply_to_user...|\"in_reply_to_user...| \"in_reply_to_scre...|\"user\":{\"id\":1193...|\"id_str\":\"1193350...|                             \"name\":\"tarnvir\"|     \"screen_name\":\"Ta...| \"location\":\"Birmi...|                                  England\"|\"description\":\"em...|          \"url\":null|  \"entities\":{\"desc...|   \"protected\":false|          \"followers_count\"...|    \"friends_count\":270|                \"listed_count\":4|               \"created_at\":\"Mon...|                                                             \"favourites_count...|                                                                          \"utc_offset\":0|             \"time_zone\":\"Casa...|                                                                              \"geo_enabled\":true|                                                                                       \"verified\":false|                                                             \"statuses_count\":...|                  \"lang\":\"en\"|                   \"contributors_ena...|                 \"is_translator\":f...|         \"is_translation_e...|               \"profile_backgrou...|       \"profile_backgrou...|  \"profile_backgrou...|           \"profile_backgrou...|\"profile_image_ur...|         \"profile_image_ur...|   \"profile_banner_u...|       \"profile_link_col...|\"profile_sidebar_...|\"profile_sidebar_...|\"profile_text_col...| \"profile_use_back...|                                             \"has_extended_pro...|   \"default_profile\"...|         \"default_profile_...|                                                                                          \"following\":false|\"follow_request_s...|       \"notifications\":f...|\"translator_type\"...|          \"geo\":null|                       \"coordinates\":null|                                \"place\":null|                 \"contributors\":null|\"retweeted_status...|\"id\":591984228121...|                                                            \"id_str\":\"5919842...|          \"text\":\"#NepalEar...|                 \"truncated\":false|        \"entities\":{\"hash...|                    \"indices\":[0|                            16]}|     {\"text\":\"Nepal\"|       \"indices\":[68|                74]}|    {\"text\":\"Earthquake\"|       \"indices\":[97|                                                                                         108]}|              {\"text\":\"donate\"|                                            \"indices\":[132|                              139]}]|                \"symbols\":[]|\"user_mentions\":[...|\"name\":\"Impact Yo...|            \"id\":105153029|\"id_str\":\"105153029\"|            \"indices\":[20|               30]}]| \"urls\":[{\"url\":\"h...|                         \"expanded_url\":\"h...|  \"display_url\":\"cn...|        \"indices\":[109|                                    131]}]}|\"source\":\"<a href...|\"in_reply_to_stat...|   \"in_reply_to_stat...|\"in_reply_to_user...|           \"in_reply_to_user...|    \"in_reply_to_scre...|             \"user\":{\"id\":1051...|               \"id_str\":\"105153029\"|                                                                                                          \"name\":\"Impact Yo...|                                                                                                                 \"screen_name\":\"CN...|                  \"location\":\"CNN\"|                                                                            \"description\":\"CN...|                                                                                   \"url\":\"http://t.c...|                                                          \"entities\":{\"url\"...|         \"expanded_url\":\"h...|                   \"display_url\":\"cn...|                         \"indices\":[0|                       22]}]}|                \"description\":{\"u...|           \"protected\":false|   \"followers_count\"...|             \"friends_count\":420| \"listed_count\":1094|          \"created_at\":\"Fri...|    \"favourites_count...|         \"utc_offset\":-18000|\"time_zone\":\"East...|  \"geo_enabled\":false|     \"verified\":true|  \"statuses_count\":...|               \"lang\":\"en\"| \"contributors_ena...|\"is_translator\":f...|\"is_translation_e...|\"profile_backgrou...|         \"profile_backgrou...|\"profile_backgrou...|      \"profile_backgrou...| \"profile_image_ur...|\"profile_image_ur...|\"profile_banner_u...|\"profile_link_col...|         \"profile_sidebar_...|\"profile_sidebar_...|\n",
      "|                          {\"created_at\":\"Sa...|   \"id\":591992968254...|         \"id_str\":\"5919929...|                                                                                                     \"text\":\"RT @ndtv:...| including 34 in ...|         \"truncated\":false|\"entities\":{\"hash...|                             \"indices\":[22|               38]}]|        \"symbols\":[]|\"user_mentions\":[...|       \"name\":\"NDTV\"|       \"id\":37034483|                      \"id_str\":\"37034483\"|                                \"indices\":[3|                                8]}]|\"urls\":[{\"url\":\"h...|\"expanded_url\":\"h...|                                                                             \"display_url\":\"nd...|                 \"indices\":[85|                            107]}]|        \"media\":[{\"id\":59...|            \"id_str\":\"5919802...|                  \"indices\":[108|                  130]|\"media_url\":\"http...|  \"media_url_https\"...|        \"url\":\"http://t.c...|      \"display_url\":\"pi...|\"expanded_url\":\"h...|      \"type\":\"photo\"|                  \"sizes\":{\"thumb\":...|             \"h\":150|     \"resize\":\"crop\"}|    \"small\":{\"w\":430|             \"h\":287|                              \"resize\":\"fit\"}|         \"large\":{\"w\":430|              \"h\":287|                           \"resize\":\"fit\"}|   \"medium\":{\"w\":430|             \"h\":287|      \"resize\":\"fit\"}}|\"source_status_id...|          \"source_status_id...|   \"source_user_id\":...|            \"source_user_id_s...|               \"extended_entitie...|                                                             \"id_str\":\"5919802...|                                                                          \"indices\":[108|                             130]|                                                                            \"media_url\":\"http...|                                                                                   \"media_url_https\"...|                                                             \"url\":\"http://t.c...|         \"display_url\":\"pi...|                   \"expanded_url\":\"h...|                       \"type\":\"photo\"|         \"sizes\":{\"thumb\":...|                            \"h\":150|           \"resize\":\"crop\"}|      \"small\":{\"w\":430|                        \"h\":287|     \"resize\":\"fit\"}|             \"large\":{\"w\":430|                \"h\":287|            \"resize\":\"fit\"}|   \"medium\":{\"w\":430|             \"h\":287|    \"resize\":\"fit\"}}| \"source_status_id...|                                             \"source_status_id...|   \"source_user_id\":...|         \"source_user_id_s...|                                                                                       {\"id\":59198026970...|\"id_str\":\"5919802...|             \"indices\":[108|                130]|\"media_url\":\"http...|                     \"media_url_https\"...|                        \"url\":\"http://t.c...|                \"display_url\":\"pi...|\"expanded_url\":\"h...|      \"type\":\"photo\"|                                                            \"sizes\":{\"thumb\":...|                       \"h\":150|                  \"resize\":\"crop\"}|           \"medium\":{\"w\":430|                         \"h\":289|                 \"resize\":\"fit\"}|    \"large\":{\"w\":430|             \"h\":289|     \"resize\":\"fit\"}|        \"small\":{\"w\":430|             \"h\":289|                                                                              \"resize\":\"fit\"}}|          \"source_status_id...|                                      \"source_status_id...|                \"source_user_id\":...|        \"source_user_id_s...|{\"id\":59198027100...|\"id_str\":\"5919802...|            \"indices\":[108|                130]|     \"media_url\":\"http...|\"media_url_https\"...| \"url\":\"http://t.c...|                         \"display_url\":\"pi...|  \"expanded_url\":\"h...|        \"type\":\"photo\"|                       \"sizes\":{\"thumb\":...|             \"h\":150|    \"resize\":\"crop\"}|       \"small\":{\"w\":430|             \"h\":287|                \"resize\":\"fit\"}|        \"large\":{\"w\":430|                          \"h\":287|                    \"resize\":\"fit\"}|                                                                                                             \"medium\":{\"w\":430|                                                                                                                              \"h\":287|                  \"resize\":\"fit\"}}|                                                                            \"source_status_id...|                                                                                   \"source_status_id...|                                                          \"source_user_id\":...|         \"source_user_id_s...|                   \"source\":\"<a href...|                 \"in_reply_to_stat...|         \"in_reply_to_stat...|                \"in_reply_to_user...|        \"in_reply_to_user...|   \"in_reply_to_scre...|            \"user\":{\"id\":7514...|\"id_str\":\"751475622\"|          \"name\":\"Vishal Ku...|    \"screen_name\":\"im...|        \"location\":\"Durgapur|              INDIA\"|     \"description\":\"\"|          \"url\":null|  \"entities\":{\"desc...|         \"protected\":false| \"followers_count\":33| \"friends_count\":161|    \"listed_count\":0|\"created_at\":\"Sat...|         \"favourites_count\":9|  \"utc_offset\":19800|      \"time_zone\":\"Kolk...|  \"geo_enabled\":false|    \"verified\":false| \"statuses_count\":90|         \"lang\":\"en\"|         \"contributors_ena...|\"is_translator\":f...|\n",
      "|                          {\"created_at\":\"Sa...|   \"id\":591992962537...|         \"id_str\":\"5919929...|                                                                                                     \"text\":\"S.Aroor @...|   \"truncated\":false|      \"entities\":{\"hash...|      \"indices\":[101|                                    117]}]|        \"symbols\":[]|\"user_mentions\":[...| \"name\":\"Shiv Aroor\"|      \"id\":139189823|\"id_str\":\"139189823\"|                             \"indices\":[8|                                       18]}]|                           \"urls\":[]|\"media\":[{\"id\":59...|\"id_str\":\"5919929...|                                                                                   \"indices\":[118|                          140]|              \"media_url\":\"http...|        \"media_url_https\"...|            \"url\":\"http://t.c...|            \"display_url\":\"pi...|  \"expanded_url\":\"h...|      \"type\":\"photo\"|  \"sizes\":{\"small\":...|                     \"h\":337|           \"resize\":\"fit\"}|    \"thumb\":{\"w\":150|             \"h\":150|                      \"resize\":\"crop\"}|    \"large\":{\"w\":599|              \"h\":337|     \"resize\":\"fit\"}|   \"medium\":{\"w\":599|                                      \"h\":337|      \"resize\":\"fit\"}}}]}| \"extended_entitie...|                      \"id_str\":\"5919929...|      \"indices\":[118|                140]|  \"media_url\":\"http...|\"media_url_https\"...|          \"url\":\"http://t.c...|   \"display_url\":\"pi...|            \"expanded_url\":\"h...|                     \"type\":\"photo\"|                                                             \"sizes\":{\"small\":...|                                                                                 \"h\":337|                  \"resize\":\"fit\"}|                                                                                \"thumb\":{\"w\":150|                                                                                                \"h\":150|                                                                 \"resize\":\"crop\"}|             \"large\":{\"w\":599|                                \"h\":337|                      \"resize\":\"fit\"}|            \"medium\":{\"w\":599|                            \"h\":337|        \"resize\":\"fit\"}}}]}|  \"source\":\"<a href...|           \"in_reply_to_stat...|\"in_reply_to_stat...|         \"in_reply_to_user...|   \"in_reply_to_user...|       \"in_reply_to_scre...|\"user\":{\"id\":2296...|\"id_str\":\"2296750...|\"name\":\"MODERN SIKH\"| \"screen_name\":\"pu...|                                                    \"location\":\"\"|       \"description\":\"\"|         \"url\":\"http://t.c...|                                                                                       \"entities\":{\"url\"...|\"expanded_url\":\"h...|       \"display_url\":\"pa...|        \"indices\":[0|              22]}]}|                     \"description\":{\"u...|                           \"protected\":false|                \"followers_count\"...|\"friends_count\":1451|  \"listed_count\":445|                                                            \"created_at\":\"Fri...|          \"favourites_count...|                 \"utc_offset\":3600|          \"time_zone\":\"Bern\"|              \"geo_enabled\":true|                \"verified\":false|\"statuses_count\":...|         \"lang\":\"en\"|\"contributors_ena...|    \"is_translator\":f...|\"is_translation_e...|                                                                          \"profile_backgrou...|          \"profile_backgrou...|                                      \"profile_backgrou...|                \"profile_backgrou...|        \"profile_image_ur...|\"profile_image_ur...|\"profile_banner_u...|      \"profile_link_col...|\"profile_sidebar_...|     \"profile_sidebar_...|\"profile_text_col...| \"profile_use_back...|                         \"has_extended_pro...|  \"default_profile\"...|  \"default_profile_...|                          \"following\":false|\"follow_request_s...|\"notifications\":f...|   \"translator_type\"...|          \"geo\":null|             \"coordinates\":null|            \"place\":null|              \"contributors\":null|               \"is_quote_status\"...|                                                                                                             \"retweet_count\":0|                                                                                                                   \"favorite_count\":0|                 \"favorited\":false|                                                                               \"retweeted\":false|                                                                                   \"possibly_sensiti...|                                                                 \"lang\":\"en\"}\"|                         null|                                   null|                                 null|                         null|                                null|                        null|                   null|                            null|                null|                          null|                    null|                        null|                null|                 null|                null|                  null|                      null|                 null|                null|                null|                null|                         null|                null|                      null|                 null|                null|                null|                null|                         null|                null|\n",
      "|                          {\"created_at\":\"Sa...|   \"id\":591992977112...|         \"id_str\":\"5919929...|                                                                                                     \"text\":\"RT @AdamS...| claiming 900 liv...|         \"truncated\":false|\"entities\":{\"hash...|                              \"symbols\":[]|\"user_mentions\":[...| \"name\":\"Adam Smith\"|\"id\":819604120378...|\"id_str\":\"8196041...|        \"indices\":[3|                                    17]}]|                                  \"urls\":[]}|                \"source\":\"<a href...|\"in_reply_to_stat...|\"in_reply_to_stat...|                                                                             \"in_reply_to_user...|          \"in_reply_to_user...|              \"in_reply_to_scre...|        \"user\":{\"id\":2578...|            \"id_str\":\"257808875\"|            \"name\":\"LaurenRes...|  \"screen_name\":\"Pa...|   \"location\":\"Texas|                  USA\"|        \"description\":\"Wh...|       we bury them. RE...| always a saltgun...|          \"url\":null|                  \"entities\":{\"desc...|   \"protected\":false| \"followers_count\"...|\"friends_count\":1394|  \"listed_count\":110|                         \"created_at\":\"Sat...|     \"favourites_count...|  \"utc_offset\":-21600|                      \"time_zone\":\"Cent...|  \"geo_enabled\":true|    \"verified\":false|  \"statuses_count\":...|         \"lang\":\"en\"|          \"contributors_ena...|   \"is_translator\":f...|            \"is_translation_e...|               \"profile_backgrou...|                                                             \"profile_backgrou...|                                                                    \"profile_backgrou...|             \"profile_backgrou...|                                                                            \"profile_image_ur...|                                                                                   \"profile_image_ur...|                                                             \"profile_banner_u...|         \"profile_link_col...|                   \"profile_sidebar_...|                 \"profile_sidebar_...|         \"profile_text_col...|               \"profile_use_back...|       \"has_extended_pro...|  \"default_profile\"...|           \"default_profile_...|   \"following\":false|         \"follow_request_s...|   \"notifications\":f...|       \"translator_type\"...|          \"geo\":null|  \"coordinates\":null|        \"place\":null|  \"contributors\":null|                                             \"retweeted_status...|   \"id\":591991573455...|         \"id_str\":\"5919915...|                                                                                       \"text\":\"A 7.8 mag...| claiming 900 liv...|          \"truncated\":false|\"entities\":{\"hash...|        \"symbols\":[]|                       \"user_mentions\":[]|                                   \"urls\":[]|                \"media\":[{\"id\":59...|\"id_str\":\"5919915...|      \"indices\":[104|                                                                            126]|          \"media_url\":\"http...|              \"media_url_https\"...|        \"url\":\"http://t.c...|            \"display_url\":\"pi...|            \"expanded_url\":\"h...|      \"type\":\"photo\"|\"sizes\":{\"medium\"...|            \"h\":1024|         \"resize\":\"fit\"}|    \"thumb\":{\"w\":150|                                                                                       \"h\":150|              \"resize\":\"crop\"}|                                          \"small\":{\"w\":680|                             \"h\":680|             \"resize\":\"fit\"}|   \"large\":{\"w\":1024|            \"h\":1024|       \"resize\":\"fit\"}}}]}|\"extended_entitie...|     \"id_str\":\"5919915...|      \"indices\":[104|                 126]|                         \"media_url\":\"http...|  \"media_url_https\"...|  \"url\":\"http://t.c...|                       \"display_url\":\"pi...|\"expanded_url\":\"h...|      \"type\":\"photo\"|   \"sizes\":{\"medium\"...|            \"h\":1024|                \"resize\":\"fit\"}|        \"thumb\":{\"w\":150|                          \"h\":150|                   \"resize\":\"crop\"}|                                                                                                              \"small\":{\"w\":680|                                                                                                                              \"h\":680|                   \"resize\":\"fit\"}|                                                                               \"large\":{\"w\":1024|                                                                                               \"h\":1024|                                                             \"resize\":\"fit\"}}}|         {\"id\":59199155609...|                   \"id_str\":\"5919915...|                       \"indices\":[104|                         126]|                \"media_url\":\"http...|        \"media_url_https\"...|   \"url\":\"http://t.c...|            \"display_url\":\"pi...|\"expanded_url\":\"h...|                \"type\":\"photo\"|    \"sizes\":{\"thumb\":...|                     \"h\":150|    \"resize\":\"crop\"}|     \"large\":{\"w\":800|             \"h\":533|       \"resize\":\"fit\"}|          \"small\":{\"w\":680|              \"h\":453|     \"resize\":\"fit\"}|   \"medium\":{\"w\":800|             \"h\":533|            \"resize\":\"fit\"}}}|{\"id\":59199155612...|      \"id_str\":\"5919915...|       \"indices\":[104|                126]|\"media_url\":\"http...|\"media_url_https\"...|         \"url\":\"http://t.c...|\"display_url\":\"pi...|\n",
      "|                          {\"created_at\":\"Sa...|   \"id\":591992959639...|         \"id_str\":\"5919929...|                                                                                                     \"text\":\"No words....|   \"truncated\":false|      \"entities\":{\"hash...|       \"indices\":[33|                                     49]}]|        \"symbols\":[]|  \"user_mentions\":[]|          \"urls\":[]}|\"source\":\"<a href...|\"in_reply_to_stat...|                     \"in_reply_to_stat...|                        \"in_reply_to_user...|                \"in_reply_to_user...|\"in_reply_to_scre...|\"user\":{\"id\":8243...|                                                                              \"id_str\":\"82435844\"|          \"name\":\"Arundhati...|              \"screen_name\":\"ar...|        \"location\":\"Manch...|                        England\"|            \"description\":\"St...|   collector of exp...|   compulsive writer|       addicted reader|         and now a teensy...|      \"url\":\"http://t.c...|\"entities\":{\"url\"...|\"expanded_url\":\"h...|                  \"display_url\":\"ju...|        \"indices\":[0|               22]}]}|\"description\":{\"u...|   \"protected\":false|                         \"followers_count\":72|      \"friends_count\":144|     \"listed_count\":1|                      \"created_at\":\"Wed...|\"favourites_count...|  \"utc_offset\":19800|  \"time_zone\":\"Kolk...|  \"geo_enabled\":true|              \"verified\":false|    \"statuses_count\":97|                     \"lang\":\"en\"|               \"contributors_ena...|                                                             \"is_translator\":f...|                                                                    \"is_translation_e...|             \"profile_backgrou...|                                                                            \"profile_backgrou...|                                                                                   \"profile_backgrou...|                                                             \"profile_backgrou...|         \"profile_image_ur...|                   \"profile_image_ur...|                 \"profile_banner_u...|         \"profile_link_col...|               \"profile_sidebar_...|       \"profile_sidebar_...|  \"profile_text_col...|           \"profile_use_back...|\"has_extended_pro...|         \"default_profile\"...|   \"default_profile_...|          \"following\":false|\"follow_request_s...|\"notifications\":f...|\"translator_type\"...|           \"geo\":null|                                               \"coordinates\":null|           \"place\":null|          \"contributors\":null|                                                                                       \"is_quote_status\"...|   \"retweet_count\":0|         \"favorite_count\":0|   \"favorited\":false|   \"retweeted\":false|                            \"lang\":\"en\"}\"|                                        null|                                null|                null|                null|                                                                            null|                          null|                              null|                        null|                            null|                            null|                null|                null|                null|                    null|                null|                                                                                          null|                          null|                                                      null|                                null|                        null|                null|                null|                      null|                null|                     null|                null|                 null|                                         null|                  null|                  null|                                       null|                null|                null|                   null|                null|                           null|                    null|                             null|                               null|                                                                                                                          null|                                                                                                                                 null|                              null|                                                                                            null|                                                                                                   null|                                                                          null|                         null|                                   null|                                 null|                         null|                                null|                        null|                   null|                            null|                null|                          null|                    null|                        null|                null|                 null|                null|                  null|                      null|                 null|                null|                null|                null|                         null|                null|                      null|                 null|                null|                null|                null|                         null|                null|\n",
      "|                          {\"created_at\":\"Sa...|   \"id\":591992948037...|         \"id_str\":\"5919929...|                                                                                                     \"text\":\"RT @SkyNe...|   \"truncated\":false|      \"entities\":{\"hash...|        \"symbols\":[]|                      \"user_mentions\":[...|   \"name\":\"Sky News\"|        \"id\":7587032|  \"id_str\":\"7587032\"|        \"indices\":[3|               11]}]|                     \"urls\":[{\"url\":\"h...|                        \"expanded_url\":\"h...|                \"display_url\":\"tr...|       \"indices\":[54|               76]}]|                                                                             \"media\":[{\"id\":59...|          \"id_str\":\"5919857...|                     \"indices\":[77|                         99]|            \"media_url\":\"http...|            \"media_url_https\"...|  \"url\":\"http://t.c...|\"display_url\":\"pi...|  \"expanded_url\":\"h...|              \"type\":\"photo\"|      \"sizes\":{\"small\":...|             \"h\":383|     \"resize\":\"fit\"}|                      \"thumb\":{\"w\":150|             \"h\":150|     \"resize\":\"crop\"}|  \"medium\":{\"w\":1200|             \"h\":675|                              \"resize\":\"fit\"}|        \"large\":{\"w\":1600|              \"h\":900|                          \"resize\":\"fit\"}}|\"source_status_id...|\"source_status_id...|  \"source_user_id\":...|\"source_user_id_s...|          \"extended_entitie...|   \"id_str\":\"5919857...|                   \"indices\":[77|                                99]|                                                             \"media_url\":\"http...|                                                                    \"media_url_https\"...|             \"url\":\"http://t.c...|                                                                            \"display_url\":\"pi...|                                                                                   \"expanded_url\":\"h...|                                                                   \"type\":\"photo\"|         \"sizes\":{\"small\":...|                                \"h\":383|                      \"resize\":\"fit\"}|             \"thumb\":{\"w\":150|                            \"h\":150|           \"resize\":\"crop\"}|    \"medium\":{\"w\":1200|                        \"h\":675|     \"resize\":\"fit\"}|            \"large\":{\"w\":1600|                \"h\":900|           \"resize\":\"fit\"}}|\"source_status_id...|\"source_status_id...|\"source_user_id\":...| \"source_user_id_s...|                                             \"source\":\"<a href...|   \"in_reply_to_stat...|         \"in_reply_to_stat...|                                                                                       \"in_reply_to_user...|\"in_reply_to_user...|       \"in_reply_to_scre...|\"user\":{\"id\":3240...|\"id_str\":\"324008324\"|                     \"name\":\"Graeme Gl...|                        \"screen_name\":\"gl...|                       \"location\":\"\"|    \"description\":\"\"|          \"url\":null|                                                            \"entities\":{\"desc...|             \"protected\":false|              \"followers_count\"...|        \"friends_count\":1153|               \"listed_count\":79|            \"created_at\":\"Sat...|\"favourites_count...|   \"utc_offset\":null|    \"time_zone\":null|     \"geo_enabled\":false|    \"verified\":false|                                                                          \"statuses_count\":...|                   \"lang\":\"en\"|                                      \"contributors_ena...|                \"is_translator\":f...|        \"is_translation_e...|\"profile_backgrou...|\"profile_backgrou...|      \"profile_backgrou...|\"profile_backgrou...|     \"profile_image_ur...|\"profile_image_ur...| \"profile_link_col...|                         \"profile_sidebar_...|  \"profile_sidebar_...|  \"profile_text_col...|                       \"profile_use_back...|\"has_extended_pro...|\"default_profile\"...|   \"default_profile_...|   \"following\":false|           \"follow_request_s...|    \"notifications\":f...|             \"translator_type\"...|                         \"geo\":null|                                                                                                            \"coordinates\":null|                                                                                                                         \"place\":null|               \"contributors\":null|                                                                            \"retweeted_status...|                                                                                   \"id\":591985754508...|                                                          \"id_str\":\"5919857...|         \"text\":\"In pictur...|                      \"truncated\":false|                 \"entities\":{\"hash...|                 \"symbols\":[]|                  \"user_mentions\":[]|        \"urls\":[{\"url\":\"h...|   \"expanded_url\":\"h...|            \"display_url\":\"tr...|       \"indices\":[41|                         63]}]|    \"media\":[{\"id\":59...|        \"id_str\":\"5919857...|       \"indices\":[64|                  86]|\"media_url\":\"http...|  \"media_url_https\"...|      \"url\":\"http://t.c...| \"display_url\":\"pi...|\"expanded_url\":\"h...|      \"type\":\"photo\"|\"sizes\":{\"small\":...|                      \"h\":383|     \"resize\":\"fit\"}|          \"thumb\":{\"w\":150|              \"h\":150|    \"resize\":\"crop\"}|  \"medium\":{\"w\":1200|             \"h\":675|              \"resize\":\"fit\"}|   \"large\":{\"w\":1600|\n",
      "|                          {\"created_at\":\"Sa...|   \"id\":591992961958...|         \"id_str\":\"5919929...|                                                                                                     \"text\":\"RT @BBCBr...| Tibet &amp; Bang...|         \"truncated\":false|\"entities\":{\"hash...|                             \"indices\":[46|               57]}]|        \"symbols\":[]|\"user_mentions\":[...|\"name\":\"BBC Break...|        \"id\":5402612|                       \"id_str\":\"5402612\"|                                \"indices\":[3|                               15]}]|\"urls\":[{\"url\":\"h...|\"expanded_url\":\"h...|                                                                             \"display_url\":\"bb...|                \"indices\":[113|                           135]}]}|        \"source\":\"<a href...|            \"in_reply_to_stat...|            \"in_reply_to_stat...|  \"in_reply_to_user...|\"in_reply_to_user...|  \"in_reply_to_scre...|        \"user\":{\"id\":4663...|       \"id_str\":\"46631886\"|\"name\":\"Michele F...|\"screen_name\":\"su...|                    \"location\":\"Italy\"|\"description\":\"IT...|  Addicted to Trav...|       Motorcyclist\"|          \"url\":null|                         \"entities\":{\"desc...|        \"protected\":false| \"followers_count\":92|                       \"friends_count\":122|    \"listed_count\":6|\"created_at\":\"Fri...|  \"favourites_count...|   \"utc_offset\":3600|            \"time_zone\":\"Rome\"|     \"geo_enabled\":true|                \"verified\":false|               \"statuses_count\":...|                                                                      \"lang\":\"it\"|                                                                    \"contributors_ena...|             \"is_translator\":f...|                                                                            \"is_translation_e...|                                                                                   \"profile_backgrou...|                                                             \"profile_backgrou...|         \"profile_backgrou...|                   \"profile_backgrou...|                 \"profile_image_ur...|         \"profile_image_ur...|               \"profile_banner_u...|       \"profile_link_col...|  \"profile_sidebar_...|           \"profile_sidebar_...|\"profile_text_col...|         \"profile_use_back...|   \"has_extended_pro...|       \"default_profile\"...|\"default_profile_...|   \"following\":false|\"follow_request_s...| \"notifications\":f...|                                             \"translator_type\"...|             \"geo\":null|           \"coordinates\":null|                                                                                               \"place\":null| \"contributors\":null|       \"retweeted_status...|\"id\":591962067797...|\"id_str\":\"5919620...|                     \"text\":\"At least ...|                         Tibet &amp; Bang...|                   \"truncated\":false|\"entities\":{\"hash...|       \"indices\":[29|                                                                           40]}]|                  \"symbols\":[]|                \"user_mentions\":[]|        \"urls\":[{\"url\":\"h...|            \"expanded_url\":\"h...|            \"display_url\":\"bb...|       \"indices\":[96|              118]}]|\"media\":[{\"id\":59...|    \"id_str\":\"5919618...|      \"indices\":[119|                                                                                          141]|          \"media_url\":\"http...|                                      \"media_url_https\"...|                \"url\":\"http://t.c...|        \"display_url\":\"pi...|\"expanded_url\":\"h...|      \"type\":\"photo\"|      \"sizes\":{\"thumb\":...|             \"h\":150|         \"resize\":\"crop\"}|   \"medium\":{\"w\":950|              \"h\":475|                              \"resize\":\"fit\"}|      \"small\":{\"w\":680|               \"h\":340|                            \"resize\":\"fit\"}|    \"large\":{\"w\":950|             \"h\":475|    \"resize\":\"fit\"}}}]}|\"extended_entitie...|           \"id_str\":\"5919618...|          \"indices\":[119|                             141]|               \"media_url\":\"http...|                                                                                                          \"media_url_https\"...|                                                                                                                 \"url\":\"http://t.c...|              \"display_url\":\"pi...|                                                                            \"expanded_url\":\"h...|                                                                                         \"type\":\"photo\"|                                                          \"sizes\":{\"thumb\":...|                      \"h\":150|                       \"resize\":\"crop\"}|                    \"medium\":{\"w\":950|                      \"h\":475|                     \"resize\":\"fit\"}|            \"small\":{\"w\":680|                \"h\":340|                 \"resize\":\"fit\"}|    \"large\":{\"w\":950|                       \"h\":475|       \"resize\":\"fit\"}}}|        {\"id\":59196186389...|\"id_str\":\"5919618...|       \"indices\":[119|                141]|  \"media_url\":\"http...|      \"media_url_https\"...| \"url\":\"http://t.c...|\"display_url\":\"pi...|\"expanded_url\":\"h...|      \"type\":\"photo\"|         \"sizes\":{\"thumb\":...|             \"h\":150|          \"resize\":\"crop\"}|     \"large\":{\"w\":950|             \"h\":475|     \"resize\":\"fit\"}|   \"medium\":{\"w\":950|                      \"h\":475|     \"resize\":\"fit\"}|\n",
      "|                          {\"created_at\":\"Sa...|   \"id\":591992955092...|         \"id_str\":\"5919929...|                                                                                                     \"text\":\"Firsthand...|   \"truncated\":false|      \"entities\":{\"hash...|        \"symbols\":[]|                        \"user_mentions\":[]|\"urls\":[{\"url\":\"h...|\"expanded_url\":\"h...|\"display_url\":\"dl...|       \"indices\":[56|              78]}]}|                     \"source\":\"<a href...|                        \"in_reply_to_stat...|                \"in_reply_to_stat...|\"in_reply_to_user...|\"in_reply_to_user...|                                                                             \"in_reply_to_scre...|          \"user\":{\"id\":6211...|              \"id_str\":\"621189373\"|        \"name\":\"Natur Dis...|            \"screen_name\":\"Na...|                   \"location\":\"\"|  \"description\":\"Fo...|          \"url\":null|  \"entities\":{\"desc...|           \"protected\":false|      \"followers_count\"...| \"friends_count\":583|   \"listed_count\":28|                  \"created_at\":\"Thu...|\"favourites_count\":0|   \"utc_offset\":28800|\"time_zone\":\"Beij...| \"geo_enabled\":false|                             \"verified\":false|     \"statuses_count\":...|          \"lang\":\"en\"|                      \"contributors_ena...|\"is_translator\":f...|\"is_translation_e...|  \"profile_backgrou...|\"profile_backgrou...|          \"profile_backgrou...|   \"profile_backgrou...|            \"profile_image_ur...|               \"profile_image_ur...|                                                             \"profile_link_col...|                                                                    \"profile_sidebar_...|             \"profile_sidebar_...|                                                                            \"profile_text_col...|                                                                                   \"profile_use_back...|                                                             \"has_extended_pro...|         \"default_profile\"...|                   \"default_profile_...|                    \"following\":false|         \"follow_request_s...|               \"notifications\":f...|       \"translator_type\"...|            \"geo\":null|             \"coordinates\":null|        \"place\":null|          \"contributors\":null|   \"is_quote_status\"...|          \"retweet_count\":0|  \"favorite_count\":0|   \"favorited\":false|   \"retweeted\":false| \"possibly_sensiti...|                                                    \"lang\":\"en\"}\"|                   null|                         null|                                                                                                       null|                null|                       null|                null|                null|                                     null|                                        null|                                null|                null|                null|                                                                            null|                          null|                              null|                        null|                            null|                            null|                null|                null|                null|                    null|                null|                                                                                          null|                          null|                                                      null|                                null|                        null|                null|                null|                      null|                null|                     null|                null|                 null|                                         null|                  null|                  null|                                       null|                null|                null|                   null|                null|                           null|                    null|                             null|                               null|                                                                                                                          null|                                                                                                                                 null|                              null|                                                                                            null|                                                                                                   null|                                                                          null|                         null|                                   null|                                 null|                         null|                                null|                        null|                   null|                            null|                null|                          null|                    null|                        null|                null|                 null|                null|                  null|                      null|                 null|                null|                null|                null|                         null|                null|                      null|                 null|                null|                null|                null|                         null|                null|\n",
      "|                          {\"created_at\":\"Sa...|   \"id\":591992965318...|         \"id_str\":\"5919929...|                                                                                                     \"text\":\".@google ...|   \"truncated\":false|      \"entities\":{\"hash...|       \"indices\":[72|                                     83]}]|        \"symbols\":[]|\"user_mentions\":[...|     \"name\":\"Google\"|       \"id\":20536157| \"id_str\":\"20536157\"|                             \"indices\":[1|                                        8]}]|                \"urls\":[{\"url\":\"h...|\"expanded_url\":\"h...|\"display_url\":\"ib...|                                                                                    \"indices\":[84|                        106]}]|              \"media\":[{\"id\":59...|        \"id_str\":\"5919929...|                  \"indices\":[107|                            129]|  \"media_url\":\"http...|\"media_url_https\"...|  \"url\":\"http://t.c...|        \"display_url\":\"pi...|      \"expanded_url\":\"h...|      \"type\":\"photo\"|\"sizes\":{\"thumb\":...|                               \"h\":150|    \"resize\":\"crop\"}|     \"small\":{\"w\":630|             \"h\":420|     \"resize\":\"fit\"}|                            \"medium\":{\"w\":630|                  \"h\":420|      \"resize\":\"fit\"}|                          \"large\":{\"w\":630|             \"h\":420| \"resize\":\"fit\"}}}]}|  \"extended_entitie...|\"id_str\":\"5919929...|                \"indices\":[107|                   129]|            \"media_url\":\"http...|               \"media_url_https\"...|                                                             \"url\":\"http://t.c...|                                                                    \"display_url\":\"pi...|             \"expanded_url\":\"h...|                                                                                  \"type\":\"photo\"|                                                                                   \"sizes\":{\"thumb\":...|                                                                          \"h\":150|             \"resize\":\"crop\"}|                       \"small\":{\"w\":630|                              \"h\":420|              \"resize\":\"fit\"}|                  \"medium\":{\"w\":630|                    \"h\":420|       \"resize\":\"fit\"}|               \"large\":{\"w\":630|             \"h\":420|          \"resize\":\"fit\"}}}]}|   \"source\":\"<a href...|       \"in_reply_to_stat...|\"in_reply_to_stat...|\"in_reply_to_user...|\"in_reply_to_user...| \"in_reply_to_scre...|                                             \"user\":{\"id\":6509832|     \"id_str\":\"6509832\"|              \"name\":\"News18\"|                                                                                       \"screen_name\":\"CN...|  \"location\":\"India\"|       \"description\":\"La...|\"url\":\"https://t....|\"entities\":{\"url\"...|                     \"expanded_url\":\"h...|                        \"display_url\":\"Ne...|                        \"indices\":[0|              23]}]}|\"description\":{\"u...|                                                               \"protected\":false|          \"followers_count\"...|               \"friends_count\":396|         \"listed_count\":6055|            \"created_at\":\"Fri...|            \"favourites_count...|  \"utc_offset\":19800|\"time_zone\":\"New ...|  \"geo_enabled\":true|         \"verified\":true|\"statuses_count\":...|                                                                                   \"lang\":\"en\"|          \"contributors_ena...|                                      \"is_translator\":f...|                \"is_translation_e...|        \"profile_backgrou...|\"profile_backgrou...|\"profile_backgrou...|      \"profile_backgrou...|\"profile_image_ur...|     \"profile_image_ur...|\"profile_banner_u...| \"profile_link_col...|                         \"profile_sidebar_...|  \"profile_sidebar_...|  \"profile_text_col...|                       \"profile_use_back...|\"has_extended_pro...|\"default_profile\"...|   \"default_profile_...|   \"following\":false|           \"follow_request_s...|    \"notifications\":f...|             \"translator_type\"...|                         \"geo\":null|                                                                                                            \"coordinates\":null|                                                                                                                         \"place\":null|               \"contributors\":null|                                                                            \"is_quote_status\"...|                                                                                     \"retweet_count\":71|                                                           \"favorite_count\":22|            \"favorited\":false|                      \"retweeted\":false|                 \"possibly_sensiti...|                \"lang\":\"en\"}\"|                                null|                        null|                   null|                            null|                null|                          null|                    null|                        null|                null|                 null|                null|                  null|                      null|                 null|                null|                null|                null|                         null|                null|                      null|                 null|                null|                null|                null|                         null|                null|\n",
      "|                          {\"created_at\":\"Sa...|   \"id\":591992968661...|         \"id_str\":\"5919929...|                                                                                                     \"text\":\"RT @NicDa...|   \"truncated\":false|      \"entities\":{\"hash...|        \"symbols\":[]|                      \"user_mentions\":[...|\"name\":\"Nicholas ...|       \"id\":43922300| \"id_str\":\"43922300\"|        \"indices\":[3|               12]}]|                     \"urls\":[{\"url\":\"h...|                        \"expanded_url\":\"h...|                \"display_url\":\"tw...|       \"indices\":[86|             109]}]}|                                                                             \"source\":\"<a href...|          \"in_reply_to_stat...|              \"in_reply_to_stat...|        \"in_reply_to_user...|            \"in_reply_to_user...|            \"in_reply_to_scre...|  \"user\":{\"id\":3262...|\"id_str\":\"326233872\"|  \"name\":\"P G Bhaskar\"|        \"screen_name\":\"Bh...|        \"location\":\"Dubai\"|\"description\":\"Ba...| Cricket & Wodeho...|                   least of all him...|\"url\":\"https://t....| \"entities\":{\"url\"...|\"expanded_url\":\"h...|\"display_url\":\"pg...|                                 \"indices\":[0|                   23]}]}| \"description\":{\"u...|                         \"protected\":false|\"followers_count\"...| \"friends_count\":214|     \"listed_count\":16|\"created_at\":\"Wed...|          \"favourites_count...|      \"utc_offset\":null|                \"time_zone\":null|                \"geo_enabled\":false|                                                                 \"verified\":false|                                                                    \"statuses_count\":...|                      \"lang\":\"en\"|                                                                            \"contributors_ena...|                                                                                   \"is_translator\":f...|                                                             \"is_translation_e...|         \"profile_backgrou...|                   \"profile_backgrou...|                 \"profile_backgrou...|         \"profile_backgrou...|               \"profile_image_ur...|       \"profile_image_ur...|  \"profile_banner_u...|           \"profile_link_col...|\"profile_sidebar_...|         \"profile_sidebar_...|   \"profile_text_col...|       \"profile_use_back...|\"has_extended_pro...|\"default_profile\"...|\"default_profile_...|    \"following\":false|                                             \"follow_request_s...|   \"notifications\":f...|         \"translator_type\"...|                                                                                                 \"geo\":null|  \"coordinates\":null|               \"place\":null| \"contributors\":null|\"retweeted_status...|                     \"id\":591980046845...|                        \"id_str\":\"5919800...|                \"text\":\"Incredibl...|   \"truncated\":false|\"entities\":{\"hash...|                                                                    \"symbols\":[]|            \"user_mentions\":[]|              \"urls\":[{\"url\":\"h...|        \"expanded_url\":\"h...|            \"display_url\":\"tw...|                   \"indices\":[72|              95]}]}|\"source\":\"<a href...|\"in_reply_to_stat...|    \"in_reply_to_stat...|\"in_reply_to_user...|                                                                          \"in_reply_to_user...|          \"in_reply_to_scre...|                                      \"user\":{\"id\":4392...|                 \"id_str\":\"43922300\"|        \"name\":\"Nicholas ...|\"screen_name\":\"Ni...|\"location\":\"New York|                       NY\"|\"description\":\"Me...|        Mail & Guardian.\"|\"url\":\"https://t....| \"entities\":{\"url\"...|                         \"expanded_url\":\"h...|  \"display_url\":\"hr...|          \"indices\":[0|                                     23]}]}|\"description\":{\"u...|   \"protected\":false|   \"followers_count\"...|\"friends_count\":1522|             \"listed_count\":846|    \"created_at\":\"Mon...|             \"favourites_count...|                 \"utc_offset\":19800|                                                                                                          \"time_zone\":\"New ...|                                                                                                                   \"geo_enabled\":true|                   \"verified\":true|                                                                            \"statuses_count\":...|                                                                                            \"lang\":\"en\"|                                                          \"contributors_ena...|         \"is_translator\":f...|                   \"is_translation_e...|                 \"profile_backgrou...|         \"profile_backgrou...|                \"profile_backgrou...|        \"profile_backgrou...|   \"profile_image_ur...|            \"profile_image_ur...|\"profile_banner_u...|          \"profile_link_col...|    \"profile_sidebar_...|        \"profile_sidebar_...|\"profile_text_col...| \"profile_use_back...|\"has_extended_pro...|  \"default_profile\"...|      \"default_profile_...|    \"following\":false|\"follow_request_s...|\"notifications\":f...|\"translator_type\"...|                   \"geo\":null|  \"coordinates\":null|              \"place\":null|  \"contributors\":null|\"is_quote_status\"...|\"quoted_status_id...|\"quoted_status_id...|         \"quoted_status\":{...|\"id\":591976629292...|\n",
      "|                          {\"created_at\":\"Sa...|   \"id\":591992965884...|         \"id_str\":\"5919929...|                                                                                                     \"text\":\"RT @Sumit...|   Name:Deepak Gupta|      \\n[Phone]+9199992...|   \"truncated\":false|                      \"entities\":{\"hash...|        \"symbols\":[]|\"user_mentions\":[...| \"name\":\"SUHEL SETH\"|       \"id\":37168231| \"id_str\":\"37168231\"|                            \"indices\":[15|                                       25]}]|                          \"urls\":[]}|\"source\":\"<a href...|\"in_reply_to_stat...|                                                                             \"in_reply_to_stat...|          \"in_reply_to_user...|              \"in_reply_to_user...|        \"in_reply_to_scre...|            \"user\":{\"id\":1076...|            \"id_str\":\"1076101...|  \"name\":\"vinod bag...|\"screen_name\":\"ba...|         \"location\":\"\"|        \"description\":\"ph...|       runner & helping...|          \"url\":null|\"entities\":{\"desc...|                     \"protected\":false| \"followers_count\":8|  \"friends_count\":141|    \"listed_count\":0|\"created_at\":\"Thu...|                         \"favourites_count...|        \"utc_offset\":null|     \"time_zone\":null|                       \"geo_enabled\":false|    \"verified\":false|\"statuses_count\":483|           \"lang\":\"en\"|\"contributors_ena...|          \"is_translator\":f...|   \"is_translation_e...|            \"profile_backgrou...|               \"profile_backgrou...|                                                             \"profile_backgrou...|                                                                    \"profile_backgrou...|             \"profile_image_ur...|                                                                            \"profile_image_ur...|                                                                                   \"profile_link_col...|                                                             \"profile_sidebar_...|         \"profile_sidebar_...|                   \"profile_text_col...|                 \"profile_use_back...|         \"has_extended_pro...|               \"default_profile\"...|       \"default_profile_...|     \"following\":false|           \"follow_request_s...|\"notifications\":f...|         \"translator_type\"...|             \"geo\":null|         \"coordinates\":null|        \"place\":null| \"contributors\":null|\"retweeted_status...| \"id\":591944967607...|                                             \"id_str\":\"5919449...|   \"text\":\"@suhelset...|            Name:Deepak Gupta|                                                                                       \\n[Phone]+9199992...|   \"truncated\":false|       \"entities\":{\"hash...|        \"symbols\":[]|\"user_mentions\":[...|                      \"name\":\"SUHEL SETH\"|                               \"id\":37168231|                 \"id_str\":\"37168231\"|        \"indices\":[0|               10]}]|                                                                      \"urls\":[]}|          \"source\":\"<a href...|              \"in_reply_to_stat...|        \"in_reply_to_stat...|            \"in_reply_to_user...|            \"in_reply_to_user...|\"in_reply_to_scre...|\"user\":{\"id\":1291...|\"id_str\":\"129190759\"|        \"name\":\"Highway\"|\"screen_name\":\"Ut...|                                                                                 \"location\":\"\"|              \"description\":\"\"|                                                \"url\":null|                \"entities\":{\"desc...|           \"protected\":false|\"followers_count\"...| \"friends_count\":550|          \"listed_count\":2|\"created_at\":\"Sat...|     \"favourites_count...|  \"utc_offset\":19800| \"time_zone\":\"Asia...|                          \"geo_enabled\":false|      \"verified\":false|  \"statuses_count\":...|                                \"lang\":\"en\"|\"contributors_ena...|\"is_translator\":f...|   \"is_translation_e...|\"profile_backgrou...|           \"profile_backgrou...|    \"profile_backgrou...|             \"profile_backgrou...|               \"profile_image_ur...|                                                                                                          \"profile_image_ur...|                                                                                                                 \"profile_banner_u...|              \"profile_link_col...|                                                                            \"profile_sidebar_...|                                                                                   \"profile_sidebar_...|                                                          \"profile_text_col...|         \"profile_use_back...|                   \"has_extended_pro...|                 \"default_profile\"...|         \"default_profile_...|                   \"following\":false|        \"follow_request_s...|   \"notifications\":f...|            \"translator_type\"...|          \"geo\":null|            \"coordinates\":null|            \"place\":null|         \"contributors\":null|\"is_quote_status\"...|  \"retweet_count\":129| \"favorite_count\":43|     \"favorited\":false|         \"retweeted\":false|         \"lang\":\"en\"}|\"is_quote_status\"...| \"retweet_count\":129|  \"favorite_count\":0|            \"favorited\":false|   \"retweeted\":false|             \"lang\":\"en\"}\"|                 null|                null|                null|                null|                         null|                null|\n",
      "|                          {\"created_at\":\"Sa...|   \"id\":591992975401...|         \"id_str\":\"5919929...|                                                                                                     \"text\":\"RT @SPoon...|   \"truncated\":false|      \"entities\":{\"hash...|       \"indices\":[16|                                     41]}]|        \"symbols\":[]|\"user_mentions\":[...|\"name\":\"Poonia4in...|      \"id\":334770866|\"id_str\":\"334770866\"|                             \"indices\":[3|                                       14]}]|                          \"urls\":[]}|\"source\":\"<a href...|\"in_reply_to_stat...|                                                                             \"in_reply_to_stat...|          \"in_reply_to_user...|              \"in_reply_to_user...|        \"in_reply_to_scre...|            \"user\":{\"id\":2855...|            \"id_str\":\"2855233...|  \"name\":\"Sumit Sin...|\"screen_name\":\"si...|    \"location\":\"Kakore|          Tehsil-Sikandrabad|                     U.P.\"|\"description\":\"Sh...|          \"url\":null|                  \"entities\":{\"desc...|   \"protected\":false| \"followers_count\"...|\"friends_count\":1691|   \"listed_count\":99|                         \"created_at\":\"Tue...|     \"favourites_count...|    \"utc_offset\":null|                          \"time_zone\":null| \"geo_enabled\":false|    \"verified\":false|  \"statuses_count\":...|         \"lang\":\"en\"|          \"contributors_ena...|   \"is_translator\":f...|            \"is_translation_e...|               \"profile_backgrou...|                                                             \"profile_backgrou...|                                                                    \"profile_backgrou...|             \"profile_backgrou...|                                                                            \"profile_image_ur...|                                                                                   \"profile_image_ur...|                                                             \"profile_banner_u...|         \"profile_link_col...|                   \"profile_sidebar_...|                 \"profile_sidebar_...|         \"profile_text_col...|               \"profile_use_back...|       \"has_extended_pro...|  \"default_profile\"...|           \"default_profile_...|   \"following\":false|         \"follow_request_s...|   \"notifications\":f...|       \"translator_type\"...|          \"geo\":null|  \"coordinates\":null|        \"place\":null|  \"contributors\":null|                                             \"retweeted_status...|   \"id\":591953972430...|         \"id_str\":\"5919539...|                                                                                       \"text\":\"#MSGHelpE...|   \"truncated\":false|       \"entities\":{\"hash...|        \"indices\":[0|               25]}]|                             \"symbols\":[]|                          \"user_mentions\":[]|                          \"urls\":[]}|\"source\":\"<a href...|\"in_reply_to_stat...|                                                            \"in_reply_to_stat...|          \"in_reply_to_user...|              \"in_reply_to_user...|        \"in_reply_to_scre...|            \"user\":{\"id\":3347...|            \"id_str\":\"334770866\"|\"name\":\"Poonia4in...|\"screen_name\":\"SP...|\"location\":\"Chand...|                  India\"|\"description\":\"Ho...|                                                                          \"url\":\"https://t....|          \"entities\":{\"url\"...|                                      \"expanded_url\":\"h...|                \"display_url\":\"An...|                \"indices\":[0|              23]}]}|\"description\":{\"u...|         \"protected\":false|\"followers_count\"...|     \"friends_count\":1...|   \"listed_count\":22| \"created_at\":\"Wed...|                         \"favourites_count...|    \"utc_offset\":19800|  \"time_zone\":\"New ...|                         \"geo_enabled\":true|    \"verified\":false|\"statuses_count\":...|            \"lang\":\"en\"|\"contributors_ena...|           \"is_translator\":f...|    \"is_translation_e...|             \"profile_backgrou...|               \"profile_backgrou...|                                                                                                          \"profile_backgrou...|                                                                                                                 \"profile_backgrou...|              \"profile_image_ur...|                                                                            \"profile_image_ur...|                                                                                   \"profile_banner_u...|                                                          \"profile_link_col...|         \"profile_sidebar_...|                   \"profile_sidebar_...|                 \"profile_text_col...|         \"profile_use_back...|                \"has_extended_pro...|        \"default_profile\"...|   \"default_profile_...|               \"following\":false|\"follow_request_s...|          \"notifications\":f...|    \"translator_type\"...|                  \"geo\":null|  \"coordinates\":null|         \"place\":null| \"contributors\":null|  \"is_quote_status\"...|        \"retweet_count\":75|  \"favorite_count\":18|   \"favorited\":false|   \"retweeted\":false|        \"lang\":\"en\"}|         \"is_quote_status\"...|  \"retweet_count\":75|        \"favorite_count\":0|    \"favorited\":false|   \"retweeted\":false|       \"lang\":\"en\"}\"|                null|                         null|                null|\n",
      "+----------------------------------------------+-----------------------+-----------------------------+-------------------------------------------------------------------------------------------------------------------------+--------------------+--------------------------+--------------------+------------------------------------------+--------------------+--------------------+--------------------+--------------------+--------------------+-----------------------------------------+--------------------------------------------+------------------------------------+--------------------+--------------------+-------------------------------------------------------------------------------------------------+------------------------------+----------------------------------+----------------------------+--------------------------------+--------------------------------+----------------------+--------------------+----------------------+----------------------------+--------------------------+--------------------+--------------------+--------------------------------------+--------------------+---------------------+--------------------+--------------------+---------------------------------------------+-------------------------+---------------------+------------------------------------------+--------------------+--------------------+----------------------+--------------------+------------------------------+-----------------------+--------------------------------+-----------------------------------+---------------------------------------------------------------------------------+----------------------------------------------------------------------------------------+---------------------------------+------------------------------------------------------------------------------------------------+-------------------------------------------------------------------------------------------------------+---------------------------------------------------------------------------------+-----------------------------+---------------------------------------+-------------------------------------+-----------------------------+-----------------------------------+---------------------------+----------------------+-------------------------------+--------------------+-----------------------------+-----------------------+---------------------------+--------------------+--------------------+--------------------+---------------------+-----------------------------------------------------------------+-----------------------+-----------------------------+-----------------------------------------------------------------------------------------------------------+--------------------+---------------------------+--------------------+--------------------+-----------------------------------------+--------------------------------------------+------------------------------------+--------------------+--------------------+--------------------------------------------------------------------------------+------------------------------+----------------------------------+----------------------------+--------------------------------+--------------------------------+--------------------+--------------------+--------------------+------------------------+--------------------+----------------------------------------------------------------------------------------------+------------------------------+----------------------------------------------------------+------------------------------------+----------------------------+--------------------+--------------------+--------------------------+--------------------+-------------------------+--------------------+---------------------+---------------------------------------------+----------------------+----------------------+-------------------------------------------+--------------------+--------------------+-----------------------+--------------------+-------------------------------+------------------------+---------------------------------+-----------------------------------+------------------------------------------------------------------------------------------------------------------------------+-------------------------------------------------------------------------------------------------------------------------------------+----------------------------------+------------------------------------------------------------------------------------------------+-------------------------------------------------------------------------------------------------------+------------------------------------------------------------------------------+-----------------------------+---------------------------------------+-------------------------------------+-----------------------------+------------------------------------+----------------------------+-----------------------+--------------------------------+--------------------+------------------------------+------------------------+----------------------------+--------------------+---------------------+--------------------+----------------------+--------------------------+---------------------+--------------------+--------------------+--------------------+-----------------------------+--------------------+--------------------------+---------------------+--------------------+--------------------+--------------------+-----------------------------+--------------------+\n",
      "only showing top 20 rows\n",
      "\n"
     ]
    }
   ],
   "source": [
    "#data = spark. \\\n",
    "#        read. \\\n",
    "#        parquet(\"../sentiment.parquet\"). \\\n",
    "#        limit(1000)\n",
    "df.cache()\n",
    "df.count()\n",
    "df.show()"
   ]
  },
  {
   "cell_type": "code",
   "execution_count": 3,
   "metadata": {
    "collapsed": false
   },
   "outputs": [],
   "source": [
    "from sparknlp.annotator import *\n",
    "from sparknlp.common import *\n",
    "from sparknlp.base import *\n",
    "from pyspark.ml import Pipeline\n",
    "### Define the dataframe                                                               \n",
    "document_assembler = DocumentAssembler() \\\n",
    "            .setInputCol(\"tweet\")\n",
    "assembled = document_assembler.transform(df)    "
   ]
  },
  {
   "cell_type": "code",
   "execution_count": 4,
   "metadata": {
    "collapsed": false
   },
   "outputs": [],
   "source": [
    "tokenizer = Tokenizer() \\\n",
    "  .setInputCols([\"document\"]) \\\n",
    "  .setOutputCol(\"token\") \\\n",
    "  #.addInfixPattern(\"(\\p{L}+)(n't\\b)\")\n",
    "tokenized = tokenizer.transform(assembled)    "
   ]
  },
  {
   "cell_type": "code",
   "execution_count": null,
   "metadata": {
    "collapsed": true
   },
   "outputs": [],
   "source": [
    "extractor = EntityExtractor()\\\n",
    "  .setEntities(\"file://\" + os.getcwd() + \"/entities.txt\")\\\n",
    "  .setInputCols([\"token\"])\\\n",
    "  .setOutputCol(\"entities\")"
   ]
  },
  {
   "cell_type": "code",
   "execution_count": 7,
   "metadata": {
    "collapsed": true
   },
   "outputs": [],
   "source": [
    "stemmer = Stemmer() \\\n",
    "  .setInputCols([\"token\"]) \\\n",
    "  .setOutputCol(\"stem\")\n",
    "stemmed = stemmer.transform(tokenized)"
   ]
  },
  {
   "cell_type": "code",
   "execution_count": 9,
   "metadata": {
    "collapsed": false
   },
   "outputs": [],
   "source": [
    "### Spell Checker\n",
    "spell_checker = NorvigSweetingApproach() \\\n",
    "            .setInputCols([\"stem\"]) \\\n",
    "            .setOutputCol(\"spell\")\n",
    "checked = spell_checker.fit(stemmed).transform(stemmed)        "
   ]
  },
  {
   "cell_type": "code",
   "execution_count": 10,
   "metadata": {
    "collapsed": true
   },
   "outputs": [],
   "source": [
    "token_assembler = TokenAssembler() \\\n",
    ".setInputCols([\"spell\"]) \\\n",
    ".setOutputCol(\"assembled\")"
   ]
  },
  {
   "cell_type": "code",
   "execution_count": 11,
   "metadata": {
    "collapsed": true
   },
   "outputs": [],
   "source": [
    "finisher = Finisher() \\\n",
    "    .setInputCols([\"assembled\"]) \\\n",
    "    .setIncludeKeys(True) \\\n",
    "    .setCleanAnnotations(False)"
   ]
  },
  {
   "cell_type": "code",
   "execution_count": 12,
   "metadata": {
    "collapsed": false
   },
   "outputs": [],
   "source": [
    "pipeline = Pipeline(stages=[\n",
    "    document_assembler,\n",
    "    tokenizer,\n",
    "    stemmer,\n",
    "    spell_checker,\n",
    "    token_assembler,\n",
    "    finisher\n",
    "])"
   ]
  },
  {
   "cell_type": "code",
   "execution_count": 13,
   "metadata": {
    "collapsed": true
   },
   "outputs": [
    {
     "name": "stdout",
     "output_type": "stream",
     "text": [
      "+--------------------+--------------------+--------------------+--------------------+--------------------+--------------------+--------------------+\n",
      "|               tweet|            document|               token|                stem|               spell|           assembled|  finished_assembled|\n",
      "+--------------------+--------------------+--------------------+--------------------+--------------------+--------------------+--------------------+\n",
      "|RT @bgittleson: T...|[[document,0,86,R...|[[token,0,1,RT,Ma...|[[token,0,1,rt,Ma...|[[token,0,1,rt,Ma...|[[document,21,25,...|result->photo@res...|\n",
      "|                Okay|[[document,0,3,Ok...|[[token,0,3,Okay,...|[[token,0,3,okai,...|[[token,0,3,okai,...|[[document,0,3,ok...|        result->okai|\n",
      "|Typical. I go to ...|[[document,0,75,T...|[[token,0,7,Typic...|[[token,0,7,typic...|[[token,0,7,typic...|[[document,0,7,ty...|result->typical.@...|\n",
      "|HOT HT to explore...|[[document,0,107,...|[[token,0,2,HOT,M...|[[token,0,2,hot,M...|[[token,0,2,hot,M...|[[document,38,55,...|result->#thisisho...|\n",
      "|Watching RAW VIDE...|[[document,0,86,W...|[[token,0,7,Watch...|[[token,0,7,watch...|[[token,0,7,watch...|[[document,44,50,...|result->buckl@res...|\n",
      "|RT @nbcbayarea: #...|[[document,0,131,...|[[token,0,1,RT,Ma...|[[token,0,1,rt,Ma...|[[token,0,1,rt,Ma...|[[document,50,72,...|result->school sc...|\n",
      "|RT @madirosenewma...|[[document,0,132,...|[[token,0,1,RT,Ma...|[[token,0,1,rt,Ma...|[[token,0,1,rt,Ma...|[[document,4,17,m...|result->madirosen...|\n",
      "|So sad. RT @nbcch...|[[document,0,128,...|[[token,0,1,So,Ma...|[[token,0,1,so,Ma...|[[token,0,1,so,Ma...|[[document,101,10...|result->cont@resu...|\n",
      "|RT @UTsandiego: W...|[[document,0,62,R...|[[token,0,1,RT,Ma...|[[token,0,1,rt,Ma...|[[token,0,1,rt,Ma...|[[document,4,13,u...|result->utsandieg...|\n",
      "|RT @KQEDnews: UC ...|[[document,0,127,...|[[token,0,1,RT,Ma...|[[token,0,1,rt,Ma...|[[token,0,1,rt,Ma...|[[document,86,88,...|result->for@resul...|\n",
      "|California winema...|[[document,0,69,C...|[[token,0,9,Calif...|[[token,0,9,calif...|[[token,0,9,calif...|[[document,0,9,ca...|result->californi...|\n",
      "|RT @myfoxla: Some...|[[document,0,25,R...|[[token,0,1,RT,Ma...|[[token,0,1,rt,Ma...|[[token,0,1,rt,Ma...|[[document,18,25,...|result->injuri@re...|\n",
      "|RT @passantino: N...|[[document,0,61,R...|[[token,0,1,RT,Ma...|[[token,0,1,rt,Ma...|[[token,0,1,rt,Ma...|[[document,4,13,p...|result->passantin...|\n",
      "|True story lol #n...|[[document,0,82,T...|[[token,0,3,True,...|[[token,0,3,true,...|[[token,0,3,true,...|[[document,11,13,...|result->lol@resul...|\n",
      "|6.0 magnitude qua...|[[document,0,42,6...|[[token,0,2,6.0,M...|[[token,0,2,6.0,M...|[[token,0,2,6.0,M...|[[document,0,2,6....|result->6.0@resul...|\n",
      "|RT @TIME: The ear...|[[document,0,94,R...|[[token,0,1,RT,Ma...|[[token,0,1,rt,Ma...|[[token,0,1,rt,Ma...|[[document,37,46,...|result->californi...|\n",
      "|Napa official: 15...|[[document,0,60,N...|[[token,0,3,Napa,...|[[token,0,3,napa,...|[[token,0,3,napa,...|[[document,5,12,o...|result->offici@re...|\n",
      "|RT @washingtonpos...|[[document,0,119,...|[[token,0,1,RT,Ma...|[[token,0,1,rt,Ma...|[[token,0,1,rt,Ma...|[[document,64,73,...|result->californi...|\n",
      "|RT @dudleystorey:...|[[document,0,128,...|[[token,0,1,RT,Ma...|[[token,0,1,rt,Ma...|[[token,0,1,rt,Ma...|[[document,39,43,...|result->human@res...|\n",
      "|RT @AP: VIDEO: Ea...|[[document,0,125,...|[[token,0,1,RT,Ma...|[[token,0,1,rt,Ma...|[[token,0,1,rt,Ma...|[[document,35,39,...|result->fire@resu...|\n",
      "+--------------------+--------------------+--------------------+--------------------+--------------------+--------------------+--------------------+\n",
      "only showing top 20 rows\n",
      "\n"
     ]
    }
   ],
   "source": [
    "spelled_data = pipeline.fit(df).transform(df)\n",
    "spelled_data.show()"
   ]
  },
  {
   "cell_type": "code",
   "execution_count": 15,
   "metadata": {
    "collapsed": true
   },
   "outputs": [
    {
     "name": "stdout",
     "output_type": "stream",
     "text": [
      "+----------------------------------------------------------------------------------------------------------------------------------------------------------------------------------------------------------------------------------------------------------------------------------------------------------------------------------------------------------------------------------+\n",
      "|assembled                                                                                                                                                                                                                                                                                                                                                                         |\n",
      "+----------------------------------------------------------------------------------------------------------------------------------------------------------------------------------------------------------------------------------------------------------------------------------------------------------------------------------------------------------------------------------+\n",
      "|[[document,21,25,photo,Map()], [document,53,63,#earthquak,Map()], [document,4,13,bgittleson,Map()], [document,0,1,rt,Map()], [document,27,28,i,Map()], [document,3,3,@,Map()], [document,30,33,veri,Map()], [document,35,45,california.,Map()], [document,14,14,:,Map()], [document,65,86,http://t.co/zchvmbr369,Map()], [document,16,19,thi,Map()], [document,47,51,#napa,Map()]]|\n",
      "|[[document,0,3,okai,Map()]]                                                                                                                                                                                                                                                                                                                                                       |\n",
      "+----------------------------------------------------------------------------------------------------------------------------------------------------------------------------------------------------------------------------------------------------------------------------------------------------------------------------------------------------------------------------------+\n",
      "only showing top 2 rows\n",
      "\n"
     ]
    }
   ],
   "source": [
    "spelled_data.select('assembled').show(2, False)"
   ]
  },
  {
   "cell_type": "markdown",
   "metadata": {},
   "source": [
    "## Simple feature training"
   ]
  },
  {
   "cell_type": "code",
   "execution_count": 2,
   "metadata": {
    "collapsed": false
   },
   "outputs": [],
   "source": [
    "# Load the Dataset \n",
    "from pyspark.sql import DataFrame\n",
    "#data_file = '/home/user/elicon/data/Test_Data/California_Quake/json/california_earthquake_rawTweets.csv'\n",
    "#data_file = '/home/user/elicon/data/Test_Data/California_Quake/unlabelled/retweeted/processed/napa_fin.csv'\n",
    "data_file = '/home/user/elicon/data/Test_Data/California_Quake/datasets/california_test.csv'\n",
    "df = spark.read.option(\"header\",\"true\").csv(data_file)\n",
    "df = df.select(df.tweet_text,df.label.cast(\"double\").alias(\"label\"))\n",
    "df = df.dropna()\n",
    "df.createOrReplaceTempView(\"tweets\")\n",
    "tweet_label = spark.sql(\"SELECT tweet_text, label FROM tweets\")\n",
    "\n",
    "tweet_text_only = spark.sql(\"SELECT tweet_text FROM tweets\")"
   ]
  },
  {
   "cell_type": "code",
   "execution_count": 3,
   "metadata": {
    "collapsed": false
   },
   "outputs": [],
   "source": [
    "# Tokenise tweets\n",
    "from pyspark.ml.feature import Tokenizer\n",
    "#from pyspark.sql.functions import col, udf\n",
    "#from pyspark.sql.types import IntegerType\n",
    "\n",
    "tokenizer = Tokenizer(inputCol=\"tweet_text\", outputCol=\"words\")\n",
    "#countTokens = udf(lambda words: len(words), IntegerType())\n",
    "#tokenized = tokenizer.transform(tweet_label)\n",
    "#tokenized = tokenized.withColumn(\"tokens\", countTokens(col(\"words\")))"
   ]
  },
  {
   "cell_type": "code",
   "execution_count": 4,
   "metadata": {
    "collapsed": false
   },
   "outputs": [],
   "source": [
    "from pyspark.ml.feature import StopWordsRemover\n",
    "# stop words\n",
    "add_stopwords = [\"amp\",\"rt\",\"ca\",\"pg\",\"ga\",\"cb\",\"ap\",\"sce\",\"st\"] # standard stop words\n",
    "stopwordsRemover = StopWordsRemover(inputCol=\"words\", outputCol=\"filtered\").setStopWords(add_stopwords)"
   ]
  },
  {
   "cell_type": "code",
   "execution_count": 5,
   "metadata": {
    "collapsed": false
   },
   "outputs": [],
   "source": [
    "# 3-Gram for context feature\n",
    "from pyspark.ml.feature import NGram\n",
    "\n",
    "ngram = NGram(n=3, inputCol=\"filtered\", outputCol=\"ngrams\")\n",
    "#ngrams = ngram.transform(tokenized)"
   ]
  },
  {
   "cell_type": "markdown",
   "metadata": {},
   "source": [
    "## Use HashingTF Feature Extraction"
   ]
  },
  {
   "cell_type": "code",
   "execution_count": 28,
   "metadata": {
    "collapsed": false
   },
   "outputs": [],
   "source": [
    "# Hashing TF feature extraction\n",
    "from pyspark.ml.feature import HashingTF, IDF, Tokenizer\n",
    "from pyspark.ml.linalg import Vector as MLVector, Vectors as MLVectors\n",
    "from pyspark.mllib.linalg import Vector as MLLibVector, Vectors as MLLibVectors\n",
    "from pyspark.mllib.regression import LabeledPoint\n",
    "from pyspark.ml.feature import VectorAssembler\n",
    "\n",
    "hashingTF = HashingTF(inputCol=\"ngrams\", outputCol=\"rawFeatures\", numFeatures=50000)\n",
    "#featurizedData = hashingTF.transform(ngrams)\n",
    "# alternatively, CountVectorizer can also be used to get term frequency vectors\n",
    "idf = IDF(inputCol=\"rawFeatures\", outputCol=\"features\")\n",
    "#idfModel = idf.fit(featurizedData)\n",
    "#tfidfData = idfModel.transform(featurizedData)\n",
    "#assembler = VectorAssembler(\n",
    "#    inputCols=[\"features\", \"tokens\"],\n",
    "#    outputCol=\"union_features\")\n",
    "#assembledData = assembler.transform(tfidfData)\n",
    "#pairs = assembledData.select(\"label\",\"features\").rdd\n",
    "#pairs = tfidfData.select(\"label\",\"features\").rdd\n",
    "#data = pairs.map(lambda x: LabeledPoint(x[0], as_mllib(x[1])))\n"
   ]
  },
  {
   "cell_type": "code",
   "execution_count": 15,
   "metadata": {
    "collapsed": true
   },
   "outputs": [],
   "source": [
    "from pyspark.ml.evaluation import BinaryClassificationEvaluator"
   ]
  },
  {
   "cell_type": "code",
   "execution_count": 7,
   "metadata": {
    "collapsed": true
   },
   "outputs": [],
   "source": [
    "# Convert to labeled vectors\n",
    "from pyspark.ml import linalg as ml_linalg\n",
    "\n",
    "def as_mllib(v):\n",
    "    if isinstance(v, ml_linalg.SparseVector):\n",
    "        return MLLibVectors.sparse(v.size, v.indices, v.values)\n",
    "    elif isinstance(v, ml_linalg.DenseVector):\n",
    "        return MLLibVectors.dense(v.toArray())\n",
    "    else:\n",
    "        raise TypeError(\"Unsupported type: {0}\".format(type(v)))        "
   ]
  },
  {
   "cell_type": "markdown",
   "metadata": {
    "collapsed": false
   },
   "source": [
    "## Word2Vec Feature Extraction"
   ]
  },
  {
   "cell_type": "code",
   "execution_count": 7,
   "metadata": {
    "collapsed": false
   },
   "outputs": [],
   "source": [
    "from pyspark.ml.feature import Word2Vec\n",
    "# Learn a mapping from words to Vectors.\n",
    "word2Vec = Word2Vec(vectorSize=2000, minCount=5, inputCol=\"ngrams\", outputCol=\"features\")"
   ]
  },
  {
   "cell_type": "markdown",
   "metadata": {},
   "source": [
    "## Pipeline"
   ]
  },
  {
   "cell_type": "code",
   "execution_count": 29,
   "metadata": {
    "collapsed": false
   },
   "outputs": [],
   "source": [
    "from pyspark.ml import Pipeline\n",
    "#pipeline = Pipeline(stages=[tokenizer,stopwordsRemover, ngram, word2Vec])# Fit the pipeline to training documents.\n",
    "pipeline = Pipeline(stages=[tokenizer, stopwordsRemover, ngram, hashingTF, idf])# Fit the pipeline to training documents."
   ]
  },
  {
   "cell_type": "code",
   "execution_count": 30,
   "metadata": {
    "collapsed": false
   },
   "outputs": [],
   "source": [
    "pipelineFit = pipeline.fit(tweet_label)\n",
    "dataset = pipelineFit.transform(tweet_label)\n",
    "### Randomly split data into training and test sets. set seed for reproducibility\n",
    "(trainingData, testData) = dataset.randomSplit([0.7, 0.3], seed = 100)"
   ]
  },
  {
   "cell_type": "code",
   "execution_count": 11,
   "metadata": {
    "collapsed": false
   },
   "outputs": [],
   "source": [
    "tokenized = tokenizer.transform(tweet_label)\n",
    "stopword = stopwordsRemover.transform(tokenized)\n",
    "ngrams = ngram.transform(stopword)\n",
    "featurizedData = hashingTF.transform(ngrams)\n",
    "idfModel = idf.fit(featurizedData)\n",
    "tfidfData = idfModel.transform(featurizedData)\n",
    "pairs = tfidfData.select(\"label\",\"features\").rdd\n",
    "data = pairs.map(lambda x: LabeledPoint(x[0], as_mllib(x[1])))"
   ]
  },
  {
   "cell_type": "code",
   "execution_count": 12,
   "metadata": {
    "collapsed": false
   },
   "outputs": [],
   "source": [
    "splits = data.randomSplit([0.6, 0.4], 1234)\n",
    "mllib_trainingData = splits[0]\n",
    "mllib_testData = splits[1]"
   ]
  },
  {
   "cell_type": "markdown",
   "metadata": {},
   "source": [
    "## Logistic Regression"
   ]
  },
  {
   "cell_type": "code",
   "execution_count": 31,
   "metadata": {
    "collapsed": false
   },
   "outputs": [],
   "source": [
    "from pyspark.ml.classification import LogisticRegression\n",
    "# Build the model\n",
    "lr = LogisticRegression(maxIter=50, regParam=0.3, elasticNetParam=0)\n",
    "\n",
    "# Train model with Training Data\n",
    "lrModel = lr.fit(trainingData)"
   ]
  },
  {
   "cell_type": "code",
   "execution_count": 32,
   "metadata": {
    "collapsed": false
   },
   "outputs": [
    {
     "name": "stdout",
     "output_type": "stream",
     "text": [
      "Training: Area Under ROC: 1.0\n"
     ]
    }
   ],
   "source": [
    "# Run Results on Training Data\n",
    "trainingSummary = lrModel.summary\n",
    "print(\"Training: Area Under ROC: \" + str(trainingSummary.areaUnderROC))"
   ]
  },
  {
   "cell_type": "code",
   "execution_count": 33,
   "metadata": {
    "collapsed": false
   },
   "outputs": [
    {
     "name": "stdout",
     "output_type": "stream",
     "text": [
      "Test: Area Under ROC: 0.548237476809\n"
     ]
    }
   ],
   "source": [
    "# Predict on Test Data\n",
    "predictions = lrModel.transform(testData)\n",
    "# Evaluate model\n",
    "evaluator = BinaryClassificationEvaluator(rawPredictionCol=\"rawPrediction\")\n",
    "print(\"Test: Area Under ROC: \" + str(evaluator.evaluate(predictions, {evaluator.metricName: \"areaUnderROC\"})))"
   ]
  },
  {
   "cell_type": "code",
   "execution_count": 34,
   "metadata": {
    "collapsed": false
   },
   "outputs": [
    {
     "data": {
      "image/png": "[encoded data removed]",
      "text/plain": [
       "<matplotlib.figure.Figure at 0x7f252f7e2350>"
      ]
     },
     "metadata": {},
     "output_type": "display_data"
    }
   ],
   "source": [
    "import matplotlib.pyplot as plt\n",
    "import numpy as np\n",
    "\n",
    "beta = np.sort(lrModel.coefficients)\n",
    "\n",
    "plt.plot(beta)\n",
    "plt.ylabel('Beta Coefficients')\n",
    "plt.show()"
   ]
  },
  {
   "cell_type": "code",
   "execution_count": 35,
   "metadata": {
    "collapsed": false
   },
   "outputs": [
    {
     "data": {
      "image/png": "[encoded data removed]",
      "text/plain": [
       "<matplotlib.figure.Figure at 0x7f252f889e10>"
      ]
     },
     "metadata": {},
     "output_type": "display_data"
    }
   ],
   "source": [
    "# Extract the summary from the returned LogisticRegressionModel instance trained\n",
    "trainingSummary = lrModel.summary\n",
    "\n",
    "# Obtain the objective per iteration\n",
    "objectiveHistory = trainingSummary.objectiveHistory\n",
    "plt.plot(objectiveHistory)\n",
    "plt.ylabel('Objective Function')\n",
    "plt.xlabel('Iteration')\n",
    "plt.show()"
   ]
  },
  {
   "cell_type": "code",
   "execution_count": 36,
   "metadata": {
    "collapsed": false
   },
   "outputs": [
    {
     "name": "stdout",
     "output_type": "stream",
     "text": [
      "areaUnderROC: 1.0\n"
     ]
    },
    {
     "data": {
      "image/png": "[encoded data removed]",
      "text/plain": [
       "<matplotlib.figure.Figure at 0x7f2538ba0410>"
      ]
     },
     "metadata": {},
     "output_type": "display_data"
    }
   ],
   "source": [
    "# Obtain the receiver-operating characteristic as a dataframe and areaUnderROC.\n",
    "print(\"areaUnderROC: \" + str(trainingSummary.areaUnderROC))\n",
    "\n",
    "#trainingSummary.roc.show(n=10, truncate=15)\n",
    "roc = trainingSummary.roc.toPandas()\n",
    "plt.plot(roc['FPR'],roc['TPR'])\n",
    "plt.ylabel('False Positive Rate')\n",
    "plt.xlabel('True Positive Rate')\n",
    "plt.title('ROC Curve')\n",
    "plt.show()"
   ]
  },
  {
   "cell_type": "code",
   "execution_count": 37,
   "metadata": {
    "collapsed": false
   },
   "outputs": [
    {
     "data": {
      "image/png": "[encoded data removed]",
      "text/plain": [
       "<matplotlib.figure.Figure at 0x7f252f874410>"
      ]
     },
     "metadata": {},
     "output_type": "display_data"
    }
   ],
   "source": [
    "pr = trainingSummary.pr.toPandas()\n",
    "plt.plot(pr['recall'],pr['precision'])\n",
    "plt.ylabel('Precision')\n",
    "plt.xlabel('Recall')\n",
    "plt.show()"
   ]
  },
  {
   "cell_type": "code",
   "execution_count": 38,
   "metadata": {
    "collapsed": false
   },
   "outputs": [
    {
     "data": {
      "image/png": "[encoded data removed]",
      "text/plain": [
       "<matplotlib.figure.Figure at 0x7f252f751110>"
      ]
     },
     "metadata": {},
     "output_type": "display_data"
    }
   ],
   "source": [
    "# Set the model threshold to maximize F-Measure\n",
    "#trainingSummary.fMeasureByThreshold.show(n=10, truncate = 15)\n",
    "f = trainingSummary.fMeasureByThreshold.toPandas()\n",
    "plt.plot(f['threshold'],f['F-Measure'])\n",
    "plt.ylabel('F-Measure')\n",
    "plt.xlabel('Threshold')\n",
    "plt.show()"
   ]
  },
  {
   "cell_type": "code",
   "execution_count": null,
   "metadata": {
    "collapsed": false
   },
   "outputs": [],
   "source": [
    "from pyspark.ml.tuning import ParamGridBuilder, CrossValidator\n",
    "\n",
    "# Create ParamGrid for Cross Validation\n",
    "paramGrid = (ParamGridBuilder()\n",
    "             .addGrid(lr.regParam, [0.1, 0.3, 0.5]) # regularization parameter\n",
    "             .addGrid(lr.elasticNetParam, [0.0, 0.1, 0.2]) # Elastic Net Parameter (Ridge = 0)\n",
    "#            .addGrid(model.maxIter, [10, 20, 50]) #Number of iterations\n",
    "#            .addGrid(idf.numFeatures, [10, 100, 1000]) # Number of features\n",
    "             .build())\n",
    "\n",
    "# Create 5-fold CrossValidator\n",
    "cv = CrossValidator(estimator=lr, \\\n",
    "                    estimatorParamMaps=paramGrid, \\\n",
    "                    evaluator=evaluator, \\\n",
    "                    numFolds=5)\n",
    "\n",
    "# Run cross validations\n",
    "cvModel = cv.fit(trainingData)\n",
    "# this will likely take a fair amount of time because of the amount of models that we're creating and testing\n",
    "\n",
    "# Use test set here so we can measure the accuracy of our model on new data\n",
    "predictions = cvModel.transform(testData)\n",
    "\n",
    "# cvModel uses the best model found from the Cross Validation\n",
    "# Evaluate best model\n",
    "print(\"Test: Area Under ROC: \" + str(evaluator.evaluate(predictions, {evaluator.metricName: \"areaUnderROC\"})))"
   ]
  },
  {
   "cell_type": "markdown",
   "metadata": {},
   "source": [
    "## Random Forest"
   ]
  },
  {
   "cell_type": "code",
   "execution_count": 39,
   "metadata": {
    "collapsed": true
   },
   "outputs": [],
   "source": [
    "from pyspark.ml.classification import RandomForestClassifier\n",
    "\n",
    "# Create an initial RandomForest model.\n",
    "rf = RandomForestClassifier(labelCol=\"label\", \\\n",
    "                            featuresCol=\"features\", \\\n",
    "                            numTrees = 100, \\\n",
    "                            maxDepth = 4, \\\n",
    "                            maxBins = 32)\n",
    "\n",
    "# Train model with Training Data\n",
    "rfModel = rf.fit(trainingData)"
   ]
  },
  {
   "cell_type": "code",
   "execution_count": 40,
   "metadata": {
    "collapsed": false
   },
   "outputs": [
    {
     "name": "stdout",
     "output_type": "stream",
     "text": [
      "Test: Area Under ROC: 0.548237476809\n"
     ]
    }
   ],
   "source": [
    "# Evaluate model\n",
    "evaluator = BinaryClassificationEvaluator(rawPredictionCol=\"rawPrediction\")\n",
    "print(\"Test: Area Under ROC: \" + str(evaluator.evaluate(predictions, {evaluator.metricName: \"areaUnderROC\"})))"
   ]
  },
  {
   "cell_type": "code",
   "execution_count": 27,
   "metadata": {
    "collapsed": false
   },
   "outputs": [
    {
     "name": "stdout",
     "output_type": "stream",
     "text": [
      "Test: Area Under ROC: 0.522727272727\n"
     ]
    }
   ],
   "source": [
    "from pyspark.ml.tuning import ParamGridBuilder, CrossValidator\n",
    "\n",
    "# Create ParamGrid for Cross Validation\n",
    "paramGrid = (ParamGridBuilder()\n",
    "             .addGrid(rf.numTrees, [50, 100, 200]) # number of trees\n",
    "             .addGrid(rf.maxDepth, [3, 4, 5]) # maximum depth\n",
    "#            .addGrid(rf.maxBins, [24, 32, 40]) #Number of bins\n",
    "             .build())\n",
    "\n",
    "# Create 5-fold CrossValidator\n",
    "cv = CrossValidator(estimator=rf, \\\n",
    "                    estimatorParamMaps=paramGrid, \\\n",
    "                    evaluator=evaluator, \\\n",
    "                    numFolds=5)\n",
    "\n",
    "# Run cross validations\n",
    "cvModel = cv.fit(trainingData)\n",
    "\n",
    "# Use test set here so we can measure the accuracy of our model on new data\n",
    "predictions = cvModel.transform(testData)\n",
    "\n",
    "# cvModel uses the best model found from the Cross Validation\n",
    "# Evaluate best model\n",
    "print(\"Test: Area Under ROC: \" + str(evaluator.evaluate(predictions, {evaluator.metricName: \"areaUnderROC\"})))"
   ]
  },
  {
   "cell_type": "markdown",
   "metadata": {},
   "source": [
    "## Gradient Boosting Machines"
   ]
  },
  {
   "cell_type": "code",
   "execution_count": 43,
   "metadata": {
    "collapsed": false
   },
   "outputs": [
    {
     "ename": "KeyboardInterrupt",
     "evalue": "",
     "output_type": "error",
     "traceback": [
      "\u001b[0;31m---------------------------------------------------------------------------\u001b[0m",
      "\u001b[0;31mKeyboardInterrupt\u001b[0m                         Traceback (most recent call last)",
      "\u001b[0;32m<ipython-input-43-1dbbedd072a9>\u001b[0m in \u001b[0;36m<module>\u001b[0;34m()\u001b[0m\n\u001b[1;32m      5\u001b[0m \u001b[0;34m\u001b[0m\u001b[0m\n\u001b[1;32m      6\u001b[0m \u001b[0;31m# Train model.  This also runs the indexers.\u001b[0m\u001b[0;34m\u001b[0m\u001b[0;34m\u001b[0m\u001b[0m\n\u001b[0;32m----> 7\u001b[0;31m \u001b[0mmodel\u001b[0m \u001b[0;34m=\u001b[0m \u001b[0mgbt\u001b[0m\u001b[0;34m.\u001b[0m\u001b[0mfit\u001b[0m\u001b[0;34m(\u001b[0m\u001b[0mtrainingData\u001b[0m\u001b[0;34m)\u001b[0m\u001b[0;34m\u001b[0m\u001b[0m\n\u001b[0m",
      "\u001b[0;32m/usr/local/src/spark/spark-2.2.1-bin-hadoop2.7/python/pyspark/ml/base.pyc\u001b[0m in \u001b[0;36mfit\u001b[0;34m(self, dataset, params)\u001b[0m\n\u001b[1;32m     62\u001b[0m                 \u001b[0;32mreturn\u001b[0m \u001b[0mself\u001b[0m\u001b[0;34m.\u001b[0m\u001b[0mcopy\u001b[0m\u001b[0;34m(\u001b[0m\u001b[0mparams\u001b[0m\u001b[0;34m)\u001b[0m\u001b[0;34m.\u001b[0m\u001b[0m_fit\u001b[0m\u001b[0;34m(\u001b[0m\u001b[0mdataset\u001b[0m\u001b[0;34m)\u001b[0m\u001b[0;34m\u001b[0m\u001b[0m\n\u001b[1;32m     63\u001b[0m             \u001b[0;32melse\u001b[0m\u001b[0;34m:\u001b[0m\u001b[0;34m\u001b[0m\u001b[0m\n\u001b[0;32m---> 64\u001b[0;31m                 \u001b[0;32mreturn\u001b[0m \u001b[0mself\u001b[0m\u001b[0;34m.\u001b[0m\u001b[0m_fit\u001b[0m\u001b[0;34m(\u001b[0m\u001b[0mdataset\u001b[0m\u001b[0;34m)\u001b[0m\u001b[0;34m\u001b[0m\u001b[0m\n\u001b[0m\u001b[1;32m     65\u001b[0m         \u001b[0;32melse\u001b[0m\u001b[0;34m:\u001b[0m\u001b[0;34m\u001b[0m\u001b[0m\n\u001b[1;32m     66\u001b[0m             raise ValueError(\"Params must be either a param map or a list/tuple of param maps, \"\n",
      "\u001b[0;32m/usr/local/src/spark/spark-2.2.1-bin-hadoop2.7/python/pyspark/ml/wrapper.pyc\u001b[0m in \u001b[0;36m_fit\u001b[0;34m(self, dataset)\u001b[0m\n\u001b[1;32m    263\u001b[0m \u001b[0;34m\u001b[0m\u001b[0m\n\u001b[1;32m    264\u001b[0m     \u001b[0;32mdef\u001b[0m \u001b[0m_fit\u001b[0m\u001b[0;34m(\u001b[0m\u001b[0mself\u001b[0m\u001b[0;34m,\u001b[0m \u001b[0mdataset\u001b[0m\u001b[0;34m)\u001b[0m\u001b[0;34m:\u001b[0m\u001b[0;34m\u001b[0m\u001b[0m\n\u001b[0;32m--> 265\u001b[0;31m         \u001b[0mjava_model\u001b[0m \u001b[0;34m=\u001b[0m \u001b[0mself\u001b[0m\u001b[0;34m.\u001b[0m\u001b[0m_fit_java\u001b[0m\u001b[0;34m(\u001b[0m\u001b[0mdataset\u001b[0m\u001b[0;34m)\u001b[0m\u001b[0;34m\u001b[0m\u001b[0m\n\u001b[0m\u001b[1;32m    266\u001b[0m         \u001b[0;32mreturn\u001b[0m \u001b[0mself\u001b[0m\u001b[0;34m.\u001b[0m\u001b[0m_create_model\u001b[0m\u001b[0;34m(\u001b[0m\u001b[0mjava_model\u001b[0m\u001b[0;34m)\u001b[0m\u001b[0;34m\u001b[0m\u001b[0m\n\u001b[1;32m    267\u001b[0m \u001b[0;34m\u001b[0m\u001b[0m\n",
      "\u001b[0;32m/usr/local/src/spark/spark-2.2.1-bin-hadoop2.7/python/pyspark/ml/wrapper.pyc\u001b[0m in \u001b[0;36m_fit_java\u001b[0;34m(self, dataset)\u001b[0m\n\u001b[1;32m    260\u001b[0m         \"\"\"\n\u001b[1;32m    261\u001b[0m         \u001b[0mself\u001b[0m\u001b[0;34m.\u001b[0m\u001b[0m_transfer_params_to_java\u001b[0m\u001b[0;34m(\u001b[0m\u001b[0;34m)\u001b[0m\u001b[0;34m\u001b[0m\u001b[0m\n\u001b[0;32m--> 262\u001b[0;31m         \u001b[0;32mreturn\u001b[0m \u001b[0mself\u001b[0m\u001b[0;34m.\u001b[0m\u001b[0m_java_obj\u001b[0m\u001b[0;34m.\u001b[0m\u001b[0mfit\u001b[0m\u001b[0;34m(\u001b[0m\u001b[0mdataset\u001b[0m\u001b[0;34m.\u001b[0m\u001b[0m_jdf\u001b[0m\u001b[0;34m)\u001b[0m\u001b[0;34m\u001b[0m\u001b[0m\n\u001b[0m\u001b[1;32m    263\u001b[0m \u001b[0;34m\u001b[0m\u001b[0m\n\u001b[1;32m    264\u001b[0m     \u001b[0;32mdef\u001b[0m \u001b[0m_fit\u001b[0m\u001b[0;34m(\u001b[0m\u001b[0mself\u001b[0m\u001b[0;34m,\u001b[0m \u001b[0mdataset\u001b[0m\u001b[0;34m)\u001b[0m\u001b[0;34m:\u001b[0m\u001b[0;34m\u001b[0m\u001b[0m\n",
      "\u001b[0;32m/usr/local/src/spark/spark-2.2.1-bin-hadoop2.7/python/lib/py4j-0.10.4-src.zip/py4j/java_gateway.py\u001b[0m in \u001b[0;36m__call__\u001b[0;34m(self, *args)\u001b[0m\n\u001b[1;32m   1129\u001b[0m             \u001b[0mproto\u001b[0m\u001b[0;34m.\u001b[0m\u001b[0mEND_COMMAND_PART\u001b[0m\u001b[0;34m\u001b[0m\u001b[0m\n\u001b[1;32m   1130\u001b[0m \u001b[0;34m\u001b[0m\u001b[0m\n\u001b[0;32m-> 1131\u001b[0;31m         \u001b[0manswer\u001b[0m \u001b[0;34m=\u001b[0m \u001b[0mself\u001b[0m\u001b[0;34m.\u001b[0m\u001b[0mgateway_client\u001b[0m\u001b[0;34m.\u001b[0m\u001b[0msend_command\u001b[0m\u001b[0;34m(\u001b[0m\u001b[0mcommand\u001b[0m\u001b[0;34m)\u001b[0m\u001b[0;34m\u001b[0m\u001b[0m\n\u001b[0m\u001b[1;32m   1132\u001b[0m         return_value = get_return_value(\n\u001b[1;32m   1133\u001b[0m             answer, self.gateway_client, self.target_id, self.name)\n",
      "\u001b[0;32m/usr/local/src/spark/spark-2.2.1-bin-hadoop2.7/python/lib/py4j-0.10.4-src.zip/py4j/java_gateway.py\u001b[0m in \u001b[0;36msend_command\u001b[0;34m(self, command, retry, binary)\u001b[0m\n\u001b[1;32m    881\u001b[0m         \u001b[0mconnection\u001b[0m \u001b[0;34m=\u001b[0m \u001b[0mself\u001b[0m\u001b[0;34m.\u001b[0m\u001b[0m_get_connection\u001b[0m\u001b[0;34m(\u001b[0m\u001b[0;34m)\u001b[0m\u001b[0;34m\u001b[0m\u001b[0m\n\u001b[1;32m    882\u001b[0m         \u001b[0;32mtry\u001b[0m\u001b[0;34m:\u001b[0m\u001b[0;34m\u001b[0m\u001b[0m\n\u001b[0;32m--> 883\u001b[0;31m             \u001b[0mresponse\u001b[0m \u001b[0;34m=\u001b[0m \u001b[0mconnection\u001b[0m\u001b[0;34m.\u001b[0m\u001b[0msend_command\u001b[0m\u001b[0;34m(\u001b[0m\u001b[0mcommand\u001b[0m\u001b[0;34m)\u001b[0m\u001b[0;34m\u001b[0m\u001b[0m\n\u001b[0m\u001b[1;32m    884\u001b[0m             \u001b[0;32mif\u001b[0m \u001b[0mbinary\u001b[0m\u001b[0;34m:\u001b[0m\u001b[0;34m\u001b[0m\u001b[0m\n\u001b[1;32m    885\u001b[0m                 \u001b[0;32mreturn\u001b[0m \u001b[0mresponse\u001b[0m\u001b[0;34m,\u001b[0m \u001b[0mself\u001b[0m\u001b[0;34m.\u001b[0m\u001b[0m_create_connection_guard\u001b[0m\u001b[0;34m(\u001b[0m\u001b[0mconnection\u001b[0m\u001b[0;34m)\u001b[0m\u001b[0;34m\u001b[0m\u001b[0m\n",
      "\u001b[0;32m/usr/local/src/spark/spark-2.2.1-bin-hadoop2.7/python/lib/py4j-0.10.4-src.zip/py4j/java_gateway.py\u001b[0m in \u001b[0;36msend_command\u001b[0;34m(self, command)\u001b[0m\n\u001b[1;32m   1026\u001b[0m \u001b[0;34m\u001b[0m\u001b[0m\n\u001b[1;32m   1027\u001b[0m         \u001b[0;32mtry\u001b[0m\u001b[0;34m:\u001b[0m\u001b[0;34m\u001b[0m\u001b[0m\n\u001b[0;32m-> 1028\u001b[0;31m             \u001b[0manswer\u001b[0m \u001b[0;34m=\u001b[0m \u001b[0msmart_decode\u001b[0m\u001b[0;34m(\u001b[0m\u001b[0mself\u001b[0m\u001b[0;34m.\u001b[0m\u001b[0mstream\u001b[0m\u001b[0;34m.\u001b[0m\u001b[0mreadline\u001b[0m\u001b[0;34m(\u001b[0m\u001b[0;34m)\u001b[0m\u001b[0;34m[\u001b[0m\u001b[0;34m:\u001b[0m\u001b[0;34m-\u001b[0m\u001b[0;36m1\u001b[0m\u001b[0;34m]\u001b[0m\u001b[0;34m)\u001b[0m\u001b[0;34m\u001b[0m\u001b[0m\n\u001b[0m\u001b[1;32m   1029\u001b[0m             \u001b[0mlogger\u001b[0m\u001b[0;34m.\u001b[0m\u001b[0mdebug\u001b[0m\u001b[0;34m(\u001b[0m\u001b[0;34m\"Answer received: {0}\"\u001b[0m\u001b[0;34m.\u001b[0m\u001b[0mformat\u001b[0m\u001b[0;34m(\u001b[0m\u001b[0manswer\u001b[0m\u001b[0;34m)\u001b[0m\u001b[0;34m)\u001b[0m\u001b[0;34m\u001b[0m\u001b[0m\n\u001b[1;32m   1030\u001b[0m             \u001b[0;32mif\u001b[0m \u001b[0manswer\u001b[0m\u001b[0;34m.\u001b[0m\u001b[0mstartswith\u001b[0m\u001b[0;34m(\u001b[0m\u001b[0mproto\u001b[0m\u001b[0;34m.\u001b[0m\u001b[0mRETURN_MESSAGE\u001b[0m\u001b[0;34m)\u001b[0m\u001b[0;34m:\u001b[0m\u001b[0;34m\u001b[0m\u001b[0m\n",
      "\u001b[0;32m/home/user/anaconda2/lib/python2.7/socket.pyc\u001b[0m in \u001b[0;36mreadline\u001b[0;34m(self, size)\u001b[0m\n\u001b[1;32m    449\u001b[0m             \u001b[0;32mwhile\u001b[0m \u001b[0mTrue\u001b[0m\u001b[0;34m:\u001b[0m\u001b[0;34m\u001b[0m\u001b[0m\n\u001b[1;32m    450\u001b[0m                 \u001b[0;32mtry\u001b[0m\u001b[0;34m:\u001b[0m\u001b[0;34m\u001b[0m\u001b[0m\n\u001b[0;32m--> 451\u001b[0;31m                     \u001b[0mdata\u001b[0m \u001b[0;34m=\u001b[0m \u001b[0mself\u001b[0m\u001b[0;34m.\u001b[0m\u001b[0m_sock\u001b[0m\u001b[0;34m.\u001b[0m\u001b[0mrecv\u001b[0m\u001b[0;34m(\u001b[0m\u001b[0mself\u001b[0m\u001b[0;34m.\u001b[0m\u001b[0m_rbufsize\u001b[0m\u001b[0;34m)\u001b[0m\u001b[0;34m\u001b[0m\u001b[0m\n\u001b[0m\u001b[1;32m    452\u001b[0m                 \u001b[0;32mexcept\u001b[0m \u001b[0merror\u001b[0m\u001b[0;34m,\u001b[0m \u001b[0me\u001b[0m\u001b[0;34m:\u001b[0m\u001b[0;34m\u001b[0m\u001b[0m\n\u001b[1;32m    453\u001b[0m                     \u001b[0;32mif\u001b[0m \u001b[0me\u001b[0m\u001b[0;34m.\u001b[0m\u001b[0margs\u001b[0m\u001b[0;34m[\u001b[0m\u001b[0;36m0\u001b[0m\u001b[0;34m]\u001b[0m \u001b[0;34m==\u001b[0m \u001b[0mEINTR\u001b[0m\u001b[0;34m:\u001b[0m\u001b[0;34m\u001b[0m\u001b[0m\n",
      "\u001b[0;31mKeyboardInterrupt\u001b[0m: "
     ]
    }
   ],
   "source": [
    "from pyspark.ml.classification import GBTClassifier\n",
    "\n",
    "# Train a GBT model.\n",
    "gbt = GBTClassifier(labelCol=\"label\", \\\n",
    "                    featuresCol=\"features\", \\\n",
    "                    maxIter=10 \\\n",
    "                    )\n",
    "\n",
    "# Train model.  This also runs the indexers.\n",
    "model = gbt.fit(trainingData)"
   ]
  },
  {
   "cell_type": "code",
   "execution_count": null,
   "metadata": {
    "collapsed": true
   },
   "outputs": [],
   "source": [
    "# Make predictions.\n",
    "predictions = model.transform(testData)\n",
    "\n",
    "# Select (prediction, true label) and compute test error\n",
    "evaluator = BinaryClassificationEvaluator(labelCol=\"label\", \\\n",
    "                                          rawPredictionCol=\"prediction\")\n",
    "print(\"Test: Area Under ROC: \" + str(evaluator.evaluate(predictions, {evaluator.metricName: \"areaUnderROC\"})))"
   ]
  },
  {
   "cell_type": "markdown",
   "metadata": {},
   "source": [
    "## Naive Bayes"
   ]
  },
  {
   "cell_type": "code",
   "execution_count": 44,
   "metadata": {
    "collapsed": false
   },
   "outputs": [
    {
     "name": "stdout",
     "output_type": "stream",
     "text": [
      "Test: Area Under ROC: 0.539888682746\n"
     ]
    }
   ],
   "source": [
    "from pyspark.ml.classification import NaiveBayes\n",
    "\n",
    "# create the trainer and set its parameters\n",
    "nb = NaiveBayes(smoothing=1, modelType=\"multinomial\")\n",
    "\n",
    "# train the model\n",
    "model = nb.fit(trainingData)\n",
    "\n",
    "# select example rows to display.\n",
    "predictions = model.transform(testData)\n",
    "\n",
    "# compute accuracy on the test set\n",
    "evaluator = BinaryClassificationEvaluator(rawPredictionCol=\"prediction\")\n",
    "print(\"Test: Area Under ROC: \" + str(evaluator.evaluate(predictions, {evaluator.metricName: \"areaUnderROC\"})))"
   ]
  },
  {
   "cell_type": "markdown",
   "metadata": {},
   "source": [
    "## SVM"
   ]
  },
  {
   "cell_type": "code",
   "execution_count": 36,
   "metadata": {
    "collapsed": false
   },
   "outputs": [
    {
     "name": "stdout",
     "output_type": "stream",
     "text": [
      "Training Error = 0.0923802553468\n"
     ]
    }
   ],
   "source": [
    "# ## Linear SVM\n",
    "from pyspark.mllib.classification import SVMWithSGD, SVMModel \n",
    "from pyspark.mllib.evaluation import BinaryClassificationMetrics\n",
    "\n",
    "# Build the model\n",
    "model = SVMWithSGD.train(mllib_trainingData, iterations=100)\n",
    "\n",
    "# Evaluating the model on training data\n",
    "labelsAndPreds = mllib_trainingData.map(lambda p: (p.label, model.predict(p.features)))\n",
    "trainErr = labelsAndPreds.filter(lambda (v, p): v != p).count() / float(mllib_trainingData.count())\n",
    "print(\"Training Error = \" + str(trainErr))"
   ]
  },
  {
   "cell_type": "markdown",
   "metadata": {},
   "source": [
    "## Model Evaluation"
   ]
  },
  {
   "cell_type": "code",
   "execution_count": 38,
   "metadata": {
    "collapsed": false
   },
   "outputs": [],
   "source": [
    "scoreAndLabels = mllib_testData.map(lambda p: (p.label, model.predict(p.features)))\n",
    "srt = scoreAndLabels.map(lambda xs: [float(x) for x in xs])\n",
    "nest = srt.map(lambda l : tuple(l) )\n",
    "metrics = BinaryClassificationMetrics(nest)\n",
    "au_ROC = metrics.areaUnderROC\n",
    "au_PR = metrics.areaUnderPR"
   ]
  },
  {
   "cell_type": "code",
   "execution_count": 39,
   "metadata": {
    "collapsed": false
   },
   "outputs": [
    {
     "data": {
      "text/plain": [
       "0.7278760022933515"
      ]
     },
     "execution_count": 39,
     "metadata": {},
     "output_type": "execute_result"
    }
   ],
   "source": [
    "au_PR"
   ]
  },
  {
   "cell_type": "markdown",
   "metadata": {},
   "source": [
    "## Save the trained model"
   ]
  },
  {
   "cell_type": "code",
   "execution_count": null,
   "metadata": {
    "collapsed": false,
    "scrolled": true
   },
   "outputs": [],
   "source": [
    "from pyspark.ml import Pipeline\n",
    "pipeline = Pipeline(stages=[tokenizer, ngram, hashingTF, idf])\n",
    "pipeline.save(\"target/tmp/HashingTF_Binary_pipeline\")"
   ]
  },
  {
   "cell_type": "code",
   "execution_count": null,
   "metadata": {
    "collapsed": true
   },
   "outputs": [],
   "source": [
    "pipeModel = pipeline.fit(tweet_label)\n",
    "pipeModel.save(\"target/tmp/HashingTF_Binary_model\")"
   ]
  },
  {
   "cell_type": "code",
   "execution_count": null,
   "metadata": {
    "collapsed": true
   },
   "outputs": [],
   "source": [
    "model.save(sc, \"target/tmp/SVMWithSGD_Binary_model\")"
   ]
  },
  {
   "cell_type": "markdown",
   "metadata": {
    "collapsed": true
   },
   "source": [
    "## Multi-feature training"
   ]
  },
  {
   "cell_type": "code",
   "execution_count": null,
   "metadata": {
    "collapsed": true
   },
   "outputs": [],
   "source": [
    "import re\n",
    "def search(text, search_word):\n",
    "    word = r\"\\W*([\\w]+)\"\n",
    "    groups = re.search(r\"{}\\W*{}{}\".format(word, search_word, word), text).groups()\n",
    "    return list(groups[:1]),list(groups[1:])   "
   ]
  },
  {
   "cell_type": "code",
   "execution_count": null,
   "metadata": {
    "collapsed": false
   },
   "outputs": [],
   "source": [
    "t = \"fire erupt quak rock california wine countri\"\n",
    "tuple1 = search(t, \"quak\")\n",
    "contents = list(tuple1)\n",
    "content = [item for sub in contents for item in sub]"
   ]
  },
  {
   "cell_type": "code",
   "execution_count": null,
   "metadata": {
    "collapsed": false
   },
   "outputs": [],
   "source": [
    "from pyspark.ml.feature import VectorAssembler\n",
    "assembler = VectorAssembler(\n",
    "    inputCols=[\"label\", \"tokens\"],\n",
    "    outputCol=\"union_features\")\n",
    "assembledData = assembler.transform(ngrams)"
   ]
  },
  {
   "cell_type": "code",
   "execution_count": null,
   "metadata": {
    "collapsed": true
   },
   "outputs": [],
   "source": [
    "from pyspark.ml.feature import StringIndexer\n",
    "\n",
    "indexer = StringIndexer(inputCol=\"ngrams\", outputCol=\"ngrams_numeric\").fit(ngrams)\n",
    "indexed_df = indexer.transform(ngrams)\n",
    "#indexed_df.drop(\"bar\").show()"
   ]
  }
 ],
 "metadata": {
  "kernelspec": {
   "display_name": "Python 2",
   "language": "python",
   "name": "python2"
  },
  "language_info": {
   "codemirror_mode": {
    "name": "ipython",
    "version": 2
   },
   "file_extension": ".py",
   "mimetype": "text/x-python",
   "name": "python",
   "nbconvert_exporter": "python",
   "pygments_lexer": "ipython2",
   "version": "2.7.13"
  }
 },
 "nbformat": 4,
 "nbformat_minor": 2
}
